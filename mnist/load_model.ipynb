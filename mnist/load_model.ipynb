{
 "cells": [
  {
   "cell_type": "code",
   "execution_count": 2,
   "metadata": {},
   "outputs": [],
   "source": [
    "# Setup\n",
    "import tensorflow as tf\n",
    "import keras\n",
    "\n",
    "import os\n",
    "import matplotlib.pyplot as plt"
   ]
  },
  {
   "cell_type": "code",
   "execution_count": 2,
   "metadata": {},
   "outputs": [],
   "source": [
    "EPOCH = 20\n",
    "BATCH = 64\n",
    "\n",
    "DATADIR = \"/Users/mghifary/Work/Code/AI/data\"\n",
    "MODELDIR = \"/Users/mghifary/Work/Code/AI/models\"\n",
    "\n",
    "modelpath = os.path.join(MODELDIR, \"mnist-mlp-classifier.h5\")"
   ]
  },
  {
   "cell_type": "code",
   "execution_count": 3,
   "metadata": {},
   "outputs": [],
   "source": [
    "# Create model\n",
    "class MLP(keras.Sequential):\n",
    "    \"\"\"Multi-layer Perceptron\"\"\"\n",
    "\n",
    "    def __init__(self, num_classes=10):\n",
    "        super().__init__()\n",
    "\n",
    "        self.add(keras.layers.Flatten())\n",
    "        self.add(keras.layers.Dense(256, activation=\"relu\"))\n",
    "        self.add(keras.layers.Dense(128, activation=\"relu\"))\n",
    "        self.add(keras.layers.Dense(num_classes))\n",
    "    \n",
    "model = MLP(num_classes=10)\n",
    "model.build(input_shape=(None, 28, 28))\n",
    "model.load_weights(modelpath, skip_mismatch=False, by_name=False, options=None)"
   ]
  },
  {
   "cell_type": "code",
   "execution_count": 4,
   "metadata": {},
   "outputs": [
    {
     "name": "stdout",
     "output_type": "stream",
     "text": [
      "Model: \"mlp\"\n",
      "_________________________________________________________________\n",
      " Layer (type)                Output Shape              Param #   \n",
      "=================================================================\n",
      " flatten (Flatten)           (None, 784)               0         \n",
      "                                                                 \n",
      " dense (Dense)               (None, 256)               200960    \n",
      "                                                                 \n",
      " dense_1 (Dense)             (None, 128)               32896     \n",
      "                                                                 \n",
      " dense_2 (Dense)             (None, 10)                1290      \n",
      "                                                                 \n",
      "=================================================================\n",
      "Total params: 235146 (918.54 KB)\n",
      "Trainable params: 235146 (918.54 KB)\n",
      "Non-trainable params: 0 (0.00 Byte)\n",
      "_________________________________________________________________\n"
     ]
    }
   ],
   "source": [
    "model.summary()"
   ]
  },
  {
   "cell_type": "code",
   "execution_count": 3,
   "metadata": {},
   "outputs": [],
   "source": [
    "EPOCH = 30\n",
    "BATCH = 128\n",
    "\n",
    "DATADIR = \"/Users/mghifary/Work/Code/AI/data\"\n",
    "MODELDIR = \"/Users/mghifary/Work/Code/AI/models\""
   ]
  }
 ],
 "metadata": {
  "kernelspec": {
   "display_name": "Python 3",
   "language": "python",
   "name": "python3"
  },
  "language_info": {
   "codemirror_mode": {
    "name": "ipython",
    "version": 3
   },
   "file_extension": ".py",
   "mimetype": "text/x-python",
   "name": "python",
   "nbconvert_exporter": "python",
   "pygments_lexer": "ipython3",
   "version": "3.11.5"
  },
  "orig_nbformat": 4
 },
 "nbformat": 4,
 "nbformat_minor": 2
}
