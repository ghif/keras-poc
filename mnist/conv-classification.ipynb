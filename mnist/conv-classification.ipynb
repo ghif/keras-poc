{
 "cells": [
  {
   "cell_type": "markdown",
   "metadata": {},
   "source": [
    "# Convolutional Networks"
   ]
  },
  {
   "cell_type": "code",
   "execution_count": 1,
   "metadata": {},
   "outputs": [],
   "source": [
    "# Setup\n",
    "import tensorflow as tf\n",
    "import keras\n",
    "\n",
    "import numpy as np\n",
    "\n",
    "import time as timer\n",
    "import datetime\n",
    "\n",
    "import os\n",
    "import sys\n",
    "import imp\n",
    "\n",
    "sys.path.append(os.path.abspath(os.path.join(os.getcwd(), os.pardir)))\n",
    "import models as M\n",
    "\n",
    "imp.reload(M)"
   ]
  },
  {
   "cell_type": "markdown",
   "metadata": {},
   "source": [
    "### Constants"
   ]
  },
  {
   "cell_type": "code",
   "execution_count": 2,
   "metadata": {},
   "outputs": [],
   "source": [
    "EPOCH = 20\n",
    "BATCH = 64\n",
    "\n",
    "DATADIR = \"/Users/mghifary/Work/Code/AI/data\"\n",
    "MODELDIR = \"/Users/mghifary/Work/Code/AI/models\"\n",
    "\n",
    "modelpath = os.path.join(MODELDIR, \"mnist-lenet-classifier.h5\")"
   ]
  },
  {
   "cell_type": "code",
   "execution_count": 3,
   "metadata": {},
   "outputs": [],
   "source": [
    "# Load dataset\n",
    "data_path = os.path.join(DATADIR, \"mnist.npz\")\n",
    "(x_train, y_train), (x_test, y_test) = keras.datasets.mnist.load_data(data_path)\n",
    "x_train = x_train.astype(\"float32\") / 255.\n",
    "x_test = x_test.astype(\"float32\") / 255.\n",
    "\n",
    "(n_train, dx1, dx2) = x_train.shape\n",
    "n_test = x_test.shape[0]\n",
    "\n",
    "x_train = np.reshape(x_train, (-1, dx1, dx2, 1))\n",
    "x_test = np.reshape(x_test, (-1, dx1, dx2, 1))\n",
    "\n",
    "dataset = tf.data.Dataset.from_tensor_slices((x_train, y_train))\n",
    "dataset_test = tf.data.Dataset.from_tensor_slices((x_test, y_test))\n",
    "\n",
    "# Shuffle and batch\n",
    "dataset = dataset.shuffle(buffer_size=1024).batch(BATCH)\n",
    "dataset_test = dataset_test.batch(BATCH)"
   ]
  },
  {
   "cell_type": "code",
   "execution_count": 4,
   "metadata": {},
   "outputs": [
    {
     "name": "stdout",
     "output_type": "stream",
     "text": [
      "Model: \"le_net5\"\n",
      "_________________________________________________________________\n",
      " Layer (type)                Output Shape              Param #   \n",
      "=================================================================\n",
      " conv2d (Conv2D)             multiple                  832       \n",
      "                                                                 \n",
      " max_pooling2d (MaxPooling2  multiple                  0         \n",
      " D)                                                              \n",
      "                                                                 \n",
      " conv2d_1 (Conv2D)           multiple                  38448     \n",
      "                                                                 \n",
      " flatten (Flatten)           multiple                  0         \n",
      "                                                                 \n",
      " dense (Dense)               multiple                  307456    \n",
      "                                                                 \n",
      " dense_1 (Dense)             multiple                  21588     \n",
      "                                                                 \n",
      " dense_2 (Dense)             multiple                  850       \n",
      "                                                                 \n",
      "=================================================================\n",
      "Total params: 369174 (1.41 MB)\n",
      "Trainable params: 369174 (1.41 MB)\n",
      "Non-trainable params: 0 (0.00 Byte)\n",
      "_________________________________________________________________\n"
     ]
    }
   ],
   "source": [
    "# Build model\n",
    "model = M.LeNet5(num_classes=10, input_shape=(dx1, dx2, 1))\n",
    "model.build(input_shape=(None, dx1, dx2, 1))\n",
    "model.summary()"
   ]
  },
  {
   "cell_type": "markdown",
   "metadata": {},
   "source": [
    "Train model"
   ]
  },
  {
   "cell_type": "code",
   "execution_count": 5,
   "metadata": {},
   "outputs": [],
   "source": [
    "# Loss and optimizer\n",
    "loss_fn = keras.losses.SparseCategoricalCrossentropy(from_logits=True)\n",
    "optimizer = keras.optimizers.legacy.Adam(learning_rate=3e-4)\n"
   ]
  },
  {
   "cell_type": "code",
   "execution_count": 6,
   "metadata": {},
   "outputs": [],
   "source": [
    "# Define metrics\n",
    "train_loss = keras.metrics.Mean('train_loss', dtype=tf.float32)\n",
    "train_accuracy = keras.metrics.SparseCategoricalAccuracy('train_accuracy')\n",
    "\n",
    "test_loss = keras.metrics.Mean('test_loss', dtype=tf.float32)\n",
    "test_accuracy = keras.metrics.SparseCategoricalAccuracy('test_accuracy')"
   ]
  },
  {
   "cell_type": "code",
   "execution_count": 7,
   "metadata": {},
   "outputs": [],
   "source": [
    "# Training and test function\n",
    "@tf.function\n",
    "def train_on_batch(model, loss_fn, optimizer, x, y):\n",
    "    with tf.GradientTape() as tape:\n",
    "        y_pred = model(x, training=True)\n",
    "        loss_value = loss_fn(y, y_pred)\n",
    "    grads = tape.gradient(loss_value, model.trainable_weights)\n",
    "    optimizer.apply_gradients(zip(grads, model.trainable_weights))\n",
    "\n",
    "    train_loss(loss_value)\n",
    "    train_accuracy(y, y_pred)\n",
    "\n",
    "@tf.function\n",
    "def test_on_batch(model, loss_fn, x, y):\n",
    "    y_pred = model(x, training=False)\n",
    "    loss_value = loss_fn(y, y_pred)\n",
    "    \n",
    "    test_loss(loss_value)\n",
    "    test_accuracy(y, y_pred)"
   ]
  },
  {
   "cell_type": "code",
   "execution_count": 8,
   "metadata": {},
   "outputs": [],
   "source": [
    "# Setup summary writers\n",
    "current_time = datetime.datetime.now().strftime(\"%Y%m%d-%H%M%S\")\n",
    "train_log_dir = 'logs/convnet-mnist/' + current_time + '/train'\n",
    "test_log_dir = 'logs/convnet-mnist/' + current_time + '/test'\n",
    "train_summary_writer = tf.summary.create_file_writer(train_log_dir)\n",
    "test_summary_writer = tf.summary.create_file_writer(test_log_dir)"
   ]
  },
  {
   "cell_type": "code",
   "execution_count": 9,
   "metadata": {},
   "outputs": [
    {
     "name": "stdout",
     "output_type": "stream",
     "text": [
      "Epoch 1 - Training [loss: 0.22991, accuracy: 0.935] (12.202 secs), Test [loss: 0.07712. accuracy: 0.975] (0.728 secs)\n",
      "Epoch 2 - Training [loss: 0.14744, accuracy: 0.958] (12.250 secs), Test [loss: 0.06114. accuracy: 0.980] (0.713 secs)\n",
      "Epoch 3 - Training [loss: 0.11313, accuracy: 0.967] (12.998 secs), Test [loss: 0.05282. accuracy: 0.983] (0.622 secs)\n",
      "Epoch 4 - Training [loss: 0.09312, accuracy: 0.973] (12.167 secs), Test [loss: 0.04920. accuracy: 0.984] (0.888 secs)\n",
      "Epoch 5 - Training [loss: 0.07960, accuracy: 0.977] (13.977 secs), Test [loss: 0.04649. accuracy: 0.985] (0.906 secs)\n",
      "Epoch 6 - Training [loss: 0.06979, accuracy: 0.980] (14.048 secs), Test [loss: 0.04412. accuracy: 0.986] (0.704 secs)\n",
      "Epoch 7 - Training [loss: 0.06223, accuracy: 0.982] (13.871 secs), Test [loss: 0.04195. accuracy: 0.986] (0.645 secs)\n",
      "Epoch 8 - Training [loss: 0.05594, accuracy: 0.984] (14.097 secs), Test [loss: 0.04045. accuracy: 0.987] (1.072 secs)\n",
      "Epoch 9 - Training [loss: 0.05098, accuracy: 0.985] (15.878 secs), Test [loss: 0.03977. accuracy: 0.987] (0.851 secs)\n",
      "Epoch 10 - Training [loss: 0.04684, accuracy: 0.986] (15.186 secs), Test [loss: 0.03894. accuracy: 0.988] (0.667 secs)\n",
      "Epoch 11 - Training [loss: 0.04325, accuracy: 0.987] (13.638 secs), Test [loss: 0.03848. accuracy: 0.988] (0.841 secs)\n",
      "Epoch 12 - Training [loss: 0.04026, accuracy: 0.988] (12.690 secs), Test [loss: 0.03785. accuracy: 0.988] (0.692 secs)\n",
      "Epoch 13 - Training [loss: 0.03762, accuracy: 0.989] (12.401 secs), Test [loss: 0.03773. accuracy: 0.988] (0.666 secs)\n",
      "Epoch 14 - Training [loss: 0.03530, accuracy: 0.990] (12.116 secs), Test [loss: 0.03771. accuracy: 0.988] (0.678 secs)\n",
      "Epoch 15 - Training [loss: 0.03331, accuracy: 0.990] (12.655 secs), Test [loss: 0.03747. accuracy: 0.989] (0.743 secs)\n",
      "Epoch 16 - Training [loss: 0.03154, accuracy: 0.991] (11.956 secs), Test [loss: 0.03745. accuracy: 0.989] (0.655 secs)\n",
      "Epoch 17 - Training [loss: 0.02986, accuracy: 0.991] (12.386 secs), Test [loss: 0.03747. accuracy: 0.989] (0.654 secs)\n",
      "Epoch 18 - Training [loss: 0.02840, accuracy: 0.992] (12.008 secs), Test [loss: 0.03748. accuracy: 0.989] (0.799 secs)\n",
      "Epoch 19 - Training [loss: 0.02713, accuracy: 0.992] (12.404 secs), Test [loss: 0.03759. accuracy: 0.989] (0.676 secs)\n",
      "Epoch 20 - Training [loss: 0.02591, accuracy: 0.992] (12.267 secs), Test [loss: 0.03849. accuracy: 0.989] (0.685 secs)\n"
     ]
    }
   ],
   "source": [
    "# Do training\n",
    "for epoch in range(EPOCH):\n",
    "    # Mini-batch training\n",
    "    train_duration = 0.0\n",
    "    for step, (x, y) in enumerate(dataset):\n",
    "        start_t = timer.time()\n",
    "        train_on_batch(model, loss_fn, optimizer, x, y)\n",
    "        elapsed_t = timer.time() - start_t\n",
    "\n",
    "        train_duration += elapsed_t\n",
    "    \n",
    "    # Store log\n",
    "    with train_summary_writer.as_default():\n",
    "        tf.summary.scalar('loss', train_loss.result(), step=epoch)\n",
    "        tf.summary.scalar('accuracy', train_accuracy.result(), step=epoch)\n",
    "\n",
    "    # Test\n",
    "    test_duration = 0.0\n",
    "    for step, (xt, yt) in enumerate(dataset_test):\n",
    "        start_t = timer.time()\n",
    "        test_on_batch(model, loss_fn, xt, yt)\n",
    "        elapsed_t = timer.time() - start_t\n",
    "\n",
    "        test_duration += elapsed_t\n",
    "\n",
    "    # Store log\n",
    "    with test_summary_writer.as_default():\n",
    "        tf.summary.scalar('loss', test_loss.result(), step=epoch)\n",
    "        tf.summary.scalar('accuracy', test_accuracy.result(), step=epoch)\n",
    "\n",
    "    print(f\"Epoch {epoch+1} - Training [loss: {train_loss.result():.5f}, accuracy: {train_accuracy.result():.3f}] ({train_duration:.3f} secs), Test [loss: {test_loss.result():.5f}. accuracy: {test_accuracy.result():.3f}] ({test_duration:.3f} secs)\")\n",
    "\n",
    "    # Save model\n",
    "    model.save_weights(modelpath, overwrite=True, save_format=None, options=None)\n",
    "\n",
    "# end of epoch"
   ]
  }
 ],
 "metadata": {
  "kernelspec": {
   "display_name": "Python 3 (ipykernel)",
   "language": "python",
   "name": "python3"
  },
  "language_info": {
   "codemirror_mode": {
    "name": "ipython",
    "version": 3
   },
   "file_extension": ".py",
   "mimetype": "text/x-python",
   "name": "python",
   "nbconvert_exporter": "python",
   "pygments_lexer": "ipython3",
   "version": "3.11.5"
  }
 },
 "nbformat": 4,
 "nbformat_minor": 4
}
