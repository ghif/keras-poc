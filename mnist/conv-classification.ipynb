{
 "cells": [
  {
   "cell_type": "markdown",
   "metadata": {},
   "source": [
    "# Convolutional Networks"
   ]
  },
  {
   "cell_type": "code",
   "execution_count": 1,
   "metadata": {},
   "outputs": [],
   "source": [
    "# Setup\n",
    "import tensorflow as tf\n",
    "import keras\n",
    "\n",
    "import time as timer\n",
    "import datetime\n",
    "\n",
    "import os"
   ]
  },
  {
   "cell_type": "markdown",
   "metadata": {},
   "source": [
    "### Constants"
   ]
  },
  {
   "cell_type": "code",
   "execution_count": 2,
   "metadata": {},
   "outputs": [],
   "source": [
    "EPOCH = 20\n",
    "BATCH = 64\n",
    "\n",
    "DATADIR = \"/Users/mghifary/Work/Code/AI/data\"\n",
    "MODELDIR = \"/Users/mghifary/Work/Code/AI/models\"\n",
    "\n",
    "modelpath = os.path.join(MODELDIR, \"mnist-lenet-classifier.h5\")"
   ]
  },
  {
   "cell_type": "code",
   "execution_count": 3,
   "metadata": {},
   "outputs": [],
   "source": [
    "# Load dataset\n",
    "data_path = os.path.join(DATADIR, \"mnist.npz\")\n",
    "(x_train, y_train), (x_test, y_test) = keras.datasets.mnist.load_data(data_path)\n",
    "x_train = x_train.astype(\"float32\") / 255.\n",
    "x_test = x_test.astype(\"float32\") / 255.\n",
    "\n",
    "(n_train, dx1, dx2) = x_train.shape\n",
    "n_test = x_test.shape[0]\n",
    "\n",
    "dataset = tf.data.Dataset.from_tensor_slices((x_train, y_train))\n",
    "dataset_test = tf.data.Dataset.from_tensor_slices((x_test, y_test))\n",
    "\n",
    "# Shuffle and batch\n",
    "dataset = dataset.shuffle(buffer_size=1024).batch(BATCH)\n",
    "dataset_test = dataset_test.batch(BATCH)"
   ]
  },
  {
   "cell_type": "code",
   "execution_count": 4,
   "metadata": {},
   "outputs": [
    {
     "name": "stdout",
     "output_type": "stream",
     "text": [
      "Model: \"le_net5\"\n",
      "_________________________________________________________________\n",
      " Layer (type)                Output Shape              Param #   \n",
      "=================================================================\n",
      " conv2d (Conv2D)             (None, 28, 28, 32)        832       \n",
      "                                                                 \n",
      " max_pooling2d (MaxPooling2  (None, 14, 14, 32)        0         \n",
      " D)                                                              \n",
      "                                                                 \n",
      " conv2d_1 (Conv2D)           (None, 10, 10, 48)        38448     \n",
      "                                                                 \n",
      " max_pooling2d_1 (MaxPoolin  (None, 5, 5, 48)          0         \n",
      " g2D)                                                            \n",
      "                                                                 \n",
      " flatten (Flatten)           (None, 1200)              0         \n",
      "                                                                 \n",
      " dense (Dense)               (None, 256)               307456    \n",
      "                                                                 \n",
      " dense_1 (Dense)             (None, 84)                21588     \n",
      "                                                                 \n",
      " dense_2 (Dense)             (None, 10)                850       \n",
      "                                                                 \n",
      "=================================================================\n",
      "Total params: 369174 (1.41 MB)\n",
      "Trainable params: 369174 (1.41 MB)\n",
      "Non-trainable params: 0 (0.00 Byte)\n",
      "_________________________________________________________________\n"
     ]
    }
   ],
   "source": [
    "# Build model\n",
    "# class ConvNet(keras.Sequential):\n",
    "#     \"\"\"Multi-layer Perceptron\"\"\"\n",
    "\n",
    "#     def __init__(self, num_classes=10):\n",
    "#         super().__init__()\n",
    "#         self.add(keras.layers.Conv2D(8, (3, 3), input_shape=(dx1, dx2, 1)))\n",
    "#         self.add(keras.layers.MaxPooling2D((2, 2)))\n",
    "#         self.add(keras.layers.Flatten())\n",
    "#         self.add(keras.layers.Dense(num_classes))\n",
    "    \n",
    "# model = ConvNet(num_classes=10)\n",
    "\n",
    "class LeNet5(keras.Sequential):\n",
    "    \"\"\"LeNet5 architecture\"\"\"\n",
    "\n",
    "    def __init__(self, num_classes=10):\n",
    "        super().__init__()\n",
    "        self.add(keras.layers.Conv2D(32, kernel_size=(5, 5), padding=\"same\", activation=\"relu\", input_shape=(dx1, dx2, 1)))\n",
    "        self.add(keras.layers.MaxPool2D((2, 2)))\n",
    "        self.add(keras.layers.Conv2D(48, kernel_size=(5, 5), padding=\"valid\", activation=\"relu\"))\n",
    "        self.add(keras.layers.MaxPool2D((2, 2)))\n",
    "        self.add(keras.layers.Flatten())\n",
    "        self.add(keras.layers.Dense(256, activation=\"relu\"))\n",
    "        self.add(keras.layers.Dense(84, activation=\"relu\"))\n",
    "        self.add(keras.layers.Dense(num_classes))\n",
    "\n",
    "model = LeNet5(num_classes=10)\n",
    "model.build(input_shape=(None, dx1, dx2))\n",
    "model.summary()"
   ]
  },
  {
   "cell_type": "markdown",
   "metadata": {},
   "source": [
    "Train model"
   ]
  },
  {
   "cell_type": "code",
   "execution_count": 5,
   "metadata": {},
   "outputs": [],
   "source": [
    "# Loss and optimizer\n",
    "loss_fn = keras.losses.SparseCategoricalCrossentropy(from_logits=True)\n",
    "optimizer = keras.optimizers.legacy.Adam(learning_rate=3e-4)\n"
   ]
  },
  {
   "cell_type": "code",
   "execution_count": 6,
   "metadata": {},
   "outputs": [],
   "source": [
    "# Define metrics\n",
    "train_loss = keras.metrics.Mean('train_loss', dtype=tf.float32)\n",
    "train_accuracy = keras.metrics.SparseCategoricalAccuracy('train_accuracy')\n",
    "\n",
    "test_loss = keras.metrics.Mean('test_loss', dtype=tf.float32)\n",
    "test_accuracy = keras.metrics.SparseCategoricalAccuracy('test_accuracy')"
   ]
  },
  {
   "cell_type": "code",
   "execution_count": 7,
   "metadata": {},
   "outputs": [],
   "source": [
    "# Training and test function\n",
    "@tf.function\n",
    "def train_on_batch(model, loss_fn, optimizer, x, y):\n",
    "    with tf.GradientTape() as tape:\n",
    "        y_pred = model(x, training=True)\n",
    "        loss_value = loss_fn(y, y_pred)\n",
    "    grads = tape.gradient(loss_value, model.trainable_weights)\n",
    "    optimizer.apply_gradients(zip(grads, model.trainable_weights))\n",
    "\n",
    "    train_loss(loss_value)\n",
    "    train_accuracy(y, y_pred)\n",
    "\n",
    "@tf.function\n",
    "def test_on_batch(model, loss_fn, x, y):\n",
    "    y_pred = model(x, training=False)\n",
    "    loss_value = loss_fn(y, y_pred)\n",
    "    \n",
    "    test_loss(loss_value)\n",
    "    test_accuracy(y, y_pred)"
   ]
  },
  {
   "cell_type": "code",
   "execution_count": 8,
   "metadata": {},
   "outputs": [],
   "source": [
    "# Setup summary writers\n",
    "current_time = datetime.datetime.now().strftime(\"%Y%m%d-%H%M%S\")\n",
    "train_log_dir = 'logs/convnet-mnist/' + current_time + '/train'\n",
    "test_log_dir = 'logs/convnet-mnist/' + current_time + '/test'\n",
    "train_summary_writer = tf.summary.create_file_writer(train_log_dir)\n",
    "test_summary_writer = tf.summary.create_file_writer(test_log_dir)"
   ]
  },
  {
   "cell_type": "code",
   "execution_count": 9,
   "metadata": {},
   "outputs": [
    {
     "name": "stdout",
     "output_type": "stream",
     "text": [
      "Epoch 1 - Training [loss: 0.23323, accuracy: 0.931] (12.358 secs), Test [loss: 0.08042. accuracy: 0.975] (0.758 secs)\n",
      "Epoch 2 - Training [loss: 0.14713, accuracy: 0.956] (12.365 secs), Test [loss: 0.06387. accuracy: 0.980] (0.701 secs)\n",
      "Epoch 3 - Training [loss: 0.11262, accuracy: 0.966] (12.311 secs), Test [loss: 0.05533. accuracy: 0.982] (0.668 secs)\n",
      "Epoch 4 - Training [loss: 0.09265, accuracy: 0.972] (12.935 secs), Test [loss: 0.04919. accuracy: 0.984] (0.695 secs)\n",
      "Epoch 5 - Training [loss: 0.07923, accuracy: 0.976] (13.220 secs), Test [loss: 0.04593. accuracy: 0.985] (0.713 secs)\n",
      "Epoch 6 - Training [loss: 0.06955, accuracy: 0.979] (12.806 secs), Test [loss: 0.04313. accuracy: 0.986] (0.719 secs)\n",
      "Epoch 7 - Training [loss: 0.06180, accuracy: 0.981] (13.029 secs), Test [loss: 0.04232. accuracy: 0.986] (0.750 secs)\n",
      "Epoch 8 - Training [loss: 0.05585, accuracy: 0.983] (13.294 secs), Test [loss: 0.04203. accuracy: 0.987] (0.772 secs)\n",
      "Epoch 9 - Training [loss: 0.05080, accuracy: 0.985] (13.647 secs), Test [loss: 0.04140. accuracy: 0.987] (0.759 secs)\n",
      "Epoch 10 - Training [loss: 0.04659, accuracy: 0.986] (13.079 secs), Test [loss: 0.04042. accuracy: 0.987] (0.684 secs)\n",
      "Epoch 11 - Training [loss: 0.04305, accuracy: 0.987] (12.576 secs), Test [loss: 0.04067. accuracy: 0.987] (0.702 secs)\n",
      "Epoch 12 - Training [loss: 0.04007, accuracy: 0.988] (12.620 secs), Test [loss: 0.04016. accuracy: 0.988] (0.695 secs)\n",
      "Epoch 13 - Training [loss: 0.03735, accuracy: 0.989] (12.771 secs), Test [loss: 0.04083. accuracy: 0.988] (0.735 secs)\n",
      "Epoch 14 - Training [loss: 0.03508, accuracy: 0.989] (13.214 secs), Test [loss: 0.04066. accuracy: 0.988] (0.697 secs)\n",
      "Epoch 15 - Training [loss: 0.03308, accuracy: 0.990] (13.616 secs), Test [loss: 0.04076. accuracy: 0.988] (0.802 secs)\n",
      "Epoch 16 - Training [loss: 0.03127, accuracy: 0.990] (13.987 secs), Test [loss: 0.04049. accuracy: 0.988] (0.781 secs)\n",
      "Epoch 17 - Training [loss: 0.02967, accuracy: 0.991] (14.564 secs), Test [loss: 0.04108. accuracy: 0.988] (0.833 secs)\n",
      "Epoch 18 - Training [loss: 0.02825, accuracy: 0.991] (14.609 secs), Test [loss: 0.04115. accuracy: 0.988] (0.924 secs)\n",
      "Epoch 19 - Training [loss: 0.02691, accuracy: 0.992] (15.442 secs), Test [loss: 0.04091. accuracy: 0.988] (0.867 secs)\n",
      "Epoch 20 - Training [loss: 0.02573, accuracy: 0.992] (14.874 secs), Test [loss: 0.04178. accuracy: 0.988] (0.857 secs)\n"
     ]
    }
   ],
   "source": [
    "# Do training\n",
    "for epoch in range(EPOCH):\n",
    "    # Mini-batch training\n",
    "    train_duration = 0.0\n",
    "    for step, (x, y) in enumerate(dataset):\n",
    "        start_t = timer.time()\n",
    "        train_on_batch(model, loss_fn, optimizer, x, y)\n",
    "        elapsed_t = timer.time() - start_t\n",
    "\n",
    "        train_duration += elapsed_t\n",
    "    \n",
    "    # Store log\n",
    "    with train_summary_writer.as_default():\n",
    "        tf.summary.scalar('loss', train_loss.result(), step=epoch)\n",
    "        tf.summary.scalar('accuracy', train_accuracy.result(), step=epoch)\n",
    "\n",
    "    # Test\n",
    "    test_duration = 0.0\n",
    "    for step, (xt, yt) in enumerate(dataset_test):\n",
    "        start_t = timer.time()\n",
    "        test_on_batch(model, loss_fn, xt, yt)\n",
    "        elapsed_t = timer.time() - start_t\n",
    "\n",
    "        test_duration += elapsed_t\n",
    "\n",
    "    # Store log\n",
    "    with test_summary_writer.as_default():\n",
    "        tf.summary.scalar('loss', test_loss.result(), step=epoch)\n",
    "        tf.summary.scalar('accuracy', test_accuracy.result(), step=epoch)\n",
    "\n",
    "    print(f\"Epoch {epoch+1} - Training [loss: {train_loss.result():.5f}, accuracy: {train_accuracy.result():.3f}] ({train_duration:.3f} secs), Test [loss: {test_loss.result():.5f}. accuracy: {test_accuracy.result():.3f}] ({test_duration:.3f} secs)\")\n",
    "\n",
    "    # Save model\n",
    "    model.save_weights(modelpath, overwrite=True, save_format=None, options=None)\n",
    "\n",
    "# end of epoch"
   ]
  }
 ],
 "metadata": {
  "kernelspec": {
   "display_name": "Python 3 (ipykernel)",
   "language": "python",
   "name": "python3"
  },
  "language_info": {
   "codemirror_mode": {
    "name": "ipython",
    "version": 3
   },
   "file_extension": ".py",
   "mimetype": "text/x-python",
   "name": "python",
   "nbconvert_exporter": "python",
   "pygments_lexer": "ipython3",
   "version": "3.11.5"
  }
 },
 "nbformat": 4,
 "nbformat_minor": 4
}
