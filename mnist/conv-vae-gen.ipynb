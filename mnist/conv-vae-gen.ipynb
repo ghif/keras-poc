{
 "cells": [
  {
   "cell_type": "markdown",
   "metadata": {},
   "source": [
    "### Setup"
   ]
  },
  {
   "cell_type": "code",
   "execution_count": 1,
   "metadata": {},
   "outputs": [],
   "source": [
    "import numpy as np\n",
    "import tensorflow as tf\n",
    "import keras\n",
    "\n",
    "import os\n",
    "import datetime\n",
    "import time as timer\n",
    "import sys\n",
    "\n",
    "sys.path.append(os.path.abspath(os.path.join(os.getcwd(), os.pardir)))\n",
    "\n",
    "import models as M\n"
   ]
  },
  {
   "cell_type": "markdown",
   "metadata": {},
   "source": [
    "### Constants"
   ]
  },
  {
   "cell_type": "code",
   "execution_count": 2,
   "metadata": {},
   "outputs": [],
   "source": [
    "EPOCH = 30\n",
    "BATCH = 128\n",
    "\n",
    "DATADIR = \"/Users/mghifary/Work/Code/AI/data\"\n",
    "MODELDIR = \"/Users/mghifary/Work/Code/AI/models\""
   ]
  },
  {
   "cell_type": "markdown",
   "metadata": {},
   "source": [
    "### Load dataset"
   ]
  },
  {
   "cell_type": "code",
   "execution_count": 3,
   "metadata": {},
   "outputs": [],
   "source": [
    "data_path = os.path.join(DATADIR, \"mnist.npz\")\n",
    "(x_train, y_train), (x_test, y_test) = keras.datasets.mnist.load_data(data_path)\n",
    "x_train = x_train.astype(\"float32\") / 255.\n",
    "x_test = x_test.astype(\"float32\") / 255.\n",
    "\n",
    "mnist_digits = np.concatenate([x_train, x_test], axis=0)\n",
    "mnist_digits = np.expand_dims(mnist_digits, -1)\n",
    "\n",
    "\n",
    "ds_train = tf.data.Dataset.from_tensor_slices(mnist_digits)\n",
    "ds_train = ds_train.shuffle(buffer_size=1024).batch(BATCH)\n"
   ]
  },
  {
   "cell_type": "markdown",
   "metadata": {},
   "source": [
    "### Train VAE"
   ]
  },
  {
   "cell_type": "code",
   "execution_count": 4,
   "metadata": {},
   "outputs": [],
   "source": [
    "# Setup summary writers for tensorboard\n",
    "current_time = datetime.datetime.now().strftime(\"%Y%m%d-%H%M%S\")\n",
    "train_log_dir = 'logs/vae-mnist/' + current_time + '/train'\n",
    "train_summary_writer = tf.summary.create_file_writer(train_log_dir)"
   ]
  },
  {
   "cell_type": "code",
   "execution_count": 5,
   "metadata": {},
   "outputs": [],
   "source": [
    "latent_dim = 2\n",
    "encoder = M.create_conv_encoder(input_shape=(28, 28, 1), latent_dim=latent_dim)\n",
    "decoder = M.create_conv_decoder(latent_dim=latent_dim)\n",
    "model = M.VAE(encoder, decoder)\n",
    "\n",
    "optimizer = keras.optimizers.legacy.Adam(3e-4)\n",
    "modelpath = os.path.join(MODELDIR, \"vae-conv_mnist.h5\")\n",
    "\n",
    "model.build(input_shape=(None, 28, 28, 1))"
   ]
  },
  {
   "cell_type": "code",
   "execution_count": 6,
   "metadata": {},
   "outputs": [
    {
     "name": "stdout",
     "output_type": "stream",
     "text": [
      "Model: \"encoder\"\n",
      "__________________________________________________________________________________________________\n",
      " Layer (type)                Output Shape                 Param #   Connected to                  \n",
      "==================================================================================================\n",
      " input_1 (InputLayer)        [(None, 28, 28, 1)]          0         []                            \n",
      "                                                                                                  \n",
      " conv2d (Conv2D)             (None, 14, 14, 32)           320       ['input_1[0][0]']             \n",
      "                                                                                                  \n",
      " conv2d_1 (Conv2D)           (None, 7, 7, 64)             18496     ['conv2d[0][0]']              \n",
      "                                                                                                  \n",
      " flatten (Flatten)           (None, 3136)                 0         ['conv2d_1[0][0]']            \n",
      "                                                                                                  \n",
      " dense (Dense)               (None, 16)                   50192     ['flatten[0][0]']             \n",
      "                                                                                                  \n",
      " z_mean (Dense)              (None, 2)                    34        ['dense[0][0]']               \n",
      "                                                                                                  \n",
      " z_log_var (Dense)           (None, 2)                    34        ['dense[0][0]']               \n",
      "                                                                                                  \n",
      " sampling (Sampling)         (None, 2)                    0         ['z_mean[0][0]',              \n",
      "                                                                     'z_log_var[0][0]']           \n",
      "                                                                                                  \n",
      "==================================================================================================\n",
      "Total params: 69076 (269.83 KB)\n",
      "Trainable params: 69076 (269.83 KB)\n",
      "Non-trainable params: 0 (0.00 Byte)\n",
      "__________________________________________________________________________________________________\n"
     ]
    }
   ],
   "source": [
    "model.encoder.summary()"
   ]
  },
  {
   "cell_type": "code",
   "execution_count": 7,
   "metadata": {},
   "outputs": [
    {
     "name": "stdout",
     "output_type": "stream",
     "text": [
      "Model: \"decoder\"\n",
      "_________________________________________________________________\n",
      " Layer (type)                Output Shape              Param #   \n",
      "=================================================================\n",
      " input_2 (InputLayer)        [(None, 2)]               0         \n",
      "                                                                 \n",
      " dense_1 (Dense)             (None, 3136)              9408      \n",
      "                                                                 \n",
      " reshape (Reshape)           (None, 7, 7, 64)          0         \n",
      "                                                                 \n",
      " conv2d_transpose (Conv2DTr  (None, 14, 14, 64)        36928     \n",
      " anspose)                                                        \n",
      "                                                                 \n",
      " conv2d_transpose_1 (Conv2D  (None, 28, 28, 32)        18464     \n",
      " Transpose)                                                      \n",
      "                                                                 \n",
      " conv2d_transpose_2 (Conv2D  (None, 28, 28, 1)         289       \n",
      " Transpose)                                                      \n",
      "                                                                 \n",
      "=================================================================\n",
      "Total params: 65089 (254.25 KB)\n",
      "Trainable params: 65089 (254.25 KB)\n",
      "Non-trainable params: 0 (0.00 Byte)\n",
      "_________________________________________________________________\n"
     ]
    }
   ],
   "source": [
    "model.decoder.summary()"
   ]
  },
  {
   "cell_type": "code",
   "execution_count": 8,
   "metadata": {},
   "outputs": [
    {
     "name": "stdout",
     "output_type": "stream",
     "text": [
      "Model: \"vae\"\n",
      "_________________________________________________________________\n",
      " Layer (type)                Output Shape              Param #   \n",
      "=================================================================\n",
      " encoder (Functional)        [(None, 2),               69076     \n",
      "                              (None, 2),                         \n",
      "                              (None, 2)]                         \n",
      "                                                                 \n",
      " decoder (Functional)        (None, 28, 28, 1)         65089     \n",
      "                                                                 \n",
      "=================================================================\n",
      "Total params: 134171 (524.11 KB)\n",
      "Trainable params: 134165 (524.08 KB)\n",
      "Non-trainable params: 6 (24.00 Byte)\n",
      "_________________________________________________________________\n"
     ]
    }
   ],
   "source": [
    "model.summary()"
   ]
  },
  {
   "cell_type": "code",
   "execution_count": 9,
   "metadata": {},
   "outputs": [],
   "source": [
    "# Training on batch function\n",
    "@tf.function\n",
    "def train_vae_on_batch(model, optimizer, inputs):\n",
    "    with tf.GradientTape() as tape:\n",
    "        z_mean, z_log_var, z = model.encoder(inputs, training=True)\n",
    "        reconstruction = model.decoder(z, training=True)\n",
    "        reconstruction_loss = tf.reduce_mean(\n",
    "            tf.reduce_sum(\n",
    "                keras.losses.binary_crossentropy(inputs, reconstruction), axis=(1 , 2)\n",
    "            )\n",
    "        )\n",
    "        kl_loss = -0.5 * (1 + z_log_var - tf.square(z_mean) - tf.exp(z_log_var))\n",
    "        kl_loss = tf.reduce_mean(tf.reduce_sum(kl_loss, axis=1))\n",
    "        total_loss = reconstruction_loss + kl_loss\n",
    "        \n",
    "    grads = tape.gradient(total_loss, model.trainable_weights)\n",
    "    optimizer.apply_gradients(zip(grads, model.trainable_weights))\n",
    "    \n",
    "    model.total_loss_tracker.update_state(total_loss)\n",
    "    model.reconstruction_loss_tracker.update_state(reconstruction_loss)\n",
    "    model.kl_loss_tracker.update_state(kl_loss)"
   ]
  },
  {
   "cell_type": "code",
   "execution_count": 10,
   "metadata": {},
   "outputs": [
    {
     "name": "stdout",
     "output_type": "stream",
     "text": [
      "Epoch 1 - Training [total_loss: 234.45265, reconstruction_loss: 231.09221, kl_loss: 3.36059] (16.185 secs)\n",
      "Epoch 2 - Training [total_loss: 213.26534, reconstruction_loss: 209.73053, kl_loss: 3.53488] (15.843 secs)\n",
      "Epoch 3 - Training [total_loss: 201.00110, reconstruction_loss: 196.85825, kl_loss: 4.14256] (17.604 secs)\n",
      "Epoch 4 - Training [total_loss: 193.28387, reconstruction_loss: 188.80579, kl_loss: 4.47765] (17.851 secs)\n",
      "Epoch 5 - Training [total_loss: 187.90463, reconstruction_loss: 183.20607, kl_loss: 4.69811] (17.625 secs)\n",
      "Epoch 6 - Training [total_loss: 183.85678, reconstruction_loss: 178.99518, kl_loss: 4.86134] (17.759 secs)\n",
      "Epoch 7 - Training [total_loss: 180.66057, reconstruction_loss: 175.67039, kl_loss: 4.98987] (17.846 secs)\n",
      "Epoch 8 - Training [total_loss: 178.08731, reconstruction_loss: 172.99196, kl_loss: 5.09488] (18.143 secs)\n",
      "Epoch 9 - Training [total_loss: 175.95769, reconstruction_loss: 170.77371, kl_loss: 5.18366] (18.614 secs)\n",
      "Epoch 10 - Training [total_loss: 174.16045, reconstruction_loss: 168.90112, kl_loss: 5.25899] (17.375 secs)\n",
      "Epoch 11 - Training [total_loss: 172.61789, reconstruction_loss: 167.29410, kl_loss: 5.32354] (18.454 secs)\n",
      "Epoch 12 - Training [total_loss: 171.27916, reconstruction_loss: 165.89729, kl_loss: 5.38175] (17.111 secs)\n",
      "Epoch 13 - Training [total_loss: 170.10838, reconstruction_loss: 164.67665, kl_loss: 5.43184] (17.114 secs)\n",
      "Epoch 14 - Training [total_loss: 169.06284, reconstruction_loss: 163.58571, kl_loss: 5.47701] (16.670 secs)\n",
      "Epoch 15 - Training [total_loss: 168.12453, reconstruction_loss: 162.60605, kl_loss: 5.51844] (17.073 secs)\n",
      "Epoch 16 - Training [total_loss: 167.27892, reconstruction_loss: 161.72379, kl_loss: 5.55527] (16.771 secs)\n",
      "Epoch 17 - Training [total_loss: 166.51025, reconstruction_loss: 160.92094, kl_loss: 5.58958] (17.100 secs)\n",
      "Epoch 18 - Training [total_loss: 165.80904, reconstruction_loss: 160.18884, kl_loss: 5.62057] (16.799 secs)\n",
      "Epoch 19 - Training [total_loss: 165.16302, reconstruction_loss: 159.51422, kl_loss: 5.64919] (18.779 secs)\n",
      "Epoch 20 - Training [total_loss: 164.56755, reconstruction_loss: 158.89192, kl_loss: 5.67630] (16.470 secs)\n",
      "Epoch 21 - Training [total_loss: 164.01846, reconstruction_loss: 158.31717, kl_loss: 5.70192] (17.350 secs)\n",
      "Epoch 22 - Training [total_loss: 163.50459, reconstruction_loss: 157.77977, kl_loss: 5.72534] (16.979 secs)\n",
      "Epoch 23 - Training [total_loss: 163.02858, reconstruction_loss: 157.28094, kl_loss: 5.74802] (15.645 secs)\n",
      "Epoch 24 - Training [total_loss: 162.58122, reconstruction_loss: 156.81342, kl_loss: 5.76841] (16.671 secs)\n",
      "Epoch 25 - Training [total_loss: 162.16101, reconstruction_loss: 156.37320, kl_loss: 5.78864] (15.834 secs)\n",
      "Epoch 26 - Training [total_loss: 161.76543, reconstruction_loss: 155.95880, kl_loss: 5.80742] (15.796 secs)\n",
      "Epoch 27 - Training [total_loss: 161.39485, reconstruction_loss: 155.57074, kl_loss: 5.82509] (15.758 secs)\n",
      "Epoch 28 - Training [total_loss: 161.04166, reconstruction_loss: 155.20120, kl_loss: 5.84156] (15.533 secs)\n",
      "Epoch 29 - Training [total_loss: 160.70734, reconstruction_loss: 154.85097, kl_loss: 5.85758] (16.000 secs)\n",
      "Epoch 30 - Training [total_loss: 160.38875, reconstruction_loss: 154.51743, kl_loss: 5.87244] (15.638 secs)\n"
     ]
    }
   ],
   "source": [
    "# Do training\n",
    "for epoch in range(EPOCH):\n",
    "    # Mini-batch training\n",
    "    train_duration = 0.0\n",
    "    for step, x in enumerate(ds_train):\n",
    "        start_t = timer.time()\n",
    "        train_vae_on_batch(model, optimizer, x)\n",
    "        elapsed_t = timer.time() - start_t\n",
    "\n",
    "        train_duration += elapsed_t\n",
    "\n",
    "    tloss = model.total_loss_tracker.result()\n",
    "    rloss = model.reconstruction_loss_tracker.result()\n",
    "    klloss = model.kl_loss_tracker.result()\n",
    "\n",
    "    \n",
    "    # Store log\n",
    "    with train_summary_writer.as_default():\n",
    "        tf.summary.scalar('total_loss', tloss, step=epoch)\n",
    "        tf.summary.scalar('reconstruction_loss', rloss, step=epoch)\n",
    "        tf.summary.scalar('kl_loss', klloss, step=epoch)\n",
    "\n",
    "    print(f\"Epoch {epoch+1} - Training [total_loss: {tloss:.5f}, reconstruction_loss: {rloss:.5f}, kl_loss: {klloss:.5f}] ({train_duration:.3f} secs)\")\n",
    "\n",
    "    # Save model\n",
    "    model.save_weights(modelpath, overwrite=True, save_format=None, options=None)"
   ]
  }
 ],
 "metadata": {
  "kernelspec": {
   "display_name": "Python 3",
   "language": "python",
   "name": "python3"
  },
  "language_info": {
   "codemirror_mode": {
    "name": "ipython",
    "version": 3
   },
   "file_extension": ".py",
   "mimetype": "text/x-python",
   "name": "python",
   "nbconvert_exporter": "python",
   "pygments_lexer": "ipython3",
   "version": "3.11.5"
  },
  "orig_nbformat": 4
 },
 "nbformat": 4,
 "nbformat_minor": 2
}
