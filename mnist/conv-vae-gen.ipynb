{
 "cells": [
  {
   "cell_type": "markdown",
   "metadata": {},
   "source": [
    "### Setup"
   ]
  },
  {
   "cell_type": "code",
   "execution_count": 1,
   "metadata": {},
   "outputs": [],
   "source": [
    "import numpy as np\n",
    "import tensorflow as tf\n",
    "import keras\n",
    "\n",
    "import os\n"
   ]
  },
  {
   "cell_type": "markdown",
   "metadata": {},
   "source": [
    "### Constants"
   ]
  },
  {
   "cell_type": "code",
   "execution_count": 2,
   "metadata": {},
   "outputs": [],
   "source": [
    "EPOCH = 30\n",
    "BATCH = 128\n",
    "\n",
    "DATADIR = \"/Users/mghifary/Work/Code/AI/data\"\n",
    "MODELDIR = \"/Users/mghifary/Work/Code/AI/models\""
   ]
  },
  {
   "cell_type": "code",
   "execution_count": null,
   "metadata": {},
   "outputs": [],
   "source": []
  },
  {
   "cell_type": "markdown",
   "metadata": {},
   "source": [
    "### Create sampling layer"
   ]
  },
  {
   "cell_type": "code",
   "execution_count": 3,
   "metadata": {},
   "outputs": [],
   "source": [
    "class Sampling(keras.layers.Layer):\n",
    "    \"\"\"\n",
    "    Uses (z_mean, z_log_var) to sample z, the vector encoding a digit.\n",
    "    \"\"\"\n",
    "\n",
    "    def call(self, inputs):\n",
    "        z_mean, z_log_var = inputs\n",
    "        batch = tf.shape(z_mean)[0]\n",
    "        dim = tf.shape(z_mean)[1]\n",
    "        epsilon = tf.random.normal(shape=(batch, dim))\n",
    "        return z_mean + tf.exp(0.5 * z_log_var) * epsilon"
   ]
  },
  {
   "cell_type": "markdown",
   "metadata": {},
   "source": [
    "### Build the encoder"
   ]
  },
  {
   "cell_type": "code",
   "execution_count": 4,
   "metadata": {},
   "outputs": [
    {
     "name": "stdout",
     "output_type": "stream",
     "text": [
      "Model: \"encoder\"\n",
      "__________________________________________________________________________________________________\n",
      " Layer (type)                Output Shape                 Param #   Connected to                  \n",
      "==================================================================================================\n",
      " input_1 (InputLayer)        [(None, 28, 28, 1)]          0         []                            \n",
      "                                                                                                  \n",
      " conv2d (Conv2D)             (None, 14, 14, 32)           320       ['input_1[0][0]']             \n",
      "                                                                                                  \n",
      " conv2d_1 (Conv2D)           (None, 7, 7, 64)             18496     ['conv2d[0][0]']              \n",
      "                                                                                                  \n",
      " flatten (Flatten)           (None, 3136)                 0         ['conv2d_1[0][0]']            \n",
      "                                                                                                  \n",
      " dense (Dense)               (None, 16)                   50192     ['flatten[0][0]']             \n",
      "                                                                                                  \n",
      " z_mean (Dense)              (None, 2)                    34        ['dense[0][0]']               \n",
      "                                                                                                  \n",
      " z_log_var (Dense)           (None, 2)                    34        ['dense[0][0]']               \n",
      "                                                                                                  \n",
      " sampling (Sampling)         (None, 2)                    0         ['z_mean[0][0]',              \n",
      "                                                                     'z_log_var[0][0]']           \n",
      "                                                                                                  \n",
      "==================================================================================================\n",
      "Total params: 69076 (269.83 KB)\n",
      "Trainable params: 69076 (269.83 KB)\n",
      "Non-trainable params: 0 (0.00 Byte)\n",
      "__________________________________________________________________________________________________\n"
     ]
    }
   ],
   "source": [
    "latent_dim = 2\n",
    "\n",
    "encoder_inputs = keras.Input(shape=(28, 28, 1))\n",
    "x = keras.layers.Conv2D(32, kernel_size=(3, 3), activation=\"relu\", strides=2, padding=\"same\")(encoder_inputs)\n",
    "x = keras.layers.Conv2D(64, kernel_size=(3, 3), activation=\"relu\", strides=2, padding=\"same\")(x)\n",
    "x = keras.layers.Flatten()(x)\n",
    "x = keras.layers.Dense(16, activation=\"relu\")(x)\n",
    "\n",
    "z_mean = keras.layers.Dense(latent_dim, name=\"z_mean\")(x)\n",
    "z_log_var = keras.layers.Dense(latent_dim, name=\"z_log_var\")(x)\n",
    "z = Sampling()([z_mean, z_log_var])\n",
    "\n",
    "encoder = keras.Model(encoder_inputs, [z_mean, z_log_var, z], name=\"encoder\")\n",
    "encoder.summary()"
   ]
  },
  {
   "cell_type": "markdown",
   "metadata": {},
   "source": [
    "### Build the decoder"
   ]
  },
  {
   "cell_type": "code",
   "execution_count": 5,
   "metadata": {},
   "outputs": [
    {
     "name": "stdout",
     "output_type": "stream",
     "text": [
      "Model: \"decoder\"\n",
      "_________________________________________________________________\n",
      " Layer (type)                Output Shape              Param #   \n",
      "=================================================================\n",
      " input_2 (InputLayer)        [(None, 2)]               0         \n",
      "                                                                 \n",
      " dense_1 (Dense)             (None, 3136)              9408      \n",
      "                                                                 \n",
      " reshape (Reshape)           (None, 7, 7, 64)          0         \n",
      "                                                                 \n",
      " conv2d_transpose (Conv2DTr  (None, 14, 14, 64)        36928     \n",
      " anspose)                                                        \n",
      "                                                                 \n",
      " conv2d_transpose_1 (Conv2D  (None, 28, 28, 32)        18464     \n",
      " Transpose)                                                      \n",
      "                                                                 \n",
      " conv2d_transpose_2 (Conv2D  (None, 28, 28, 1)         289       \n",
      " Transpose)                                                      \n",
      "                                                                 \n",
      "=================================================================\n",
      "Total params: 65089 (254.25 KB)\n",
      "Trainable params: 65089 (254.25 KB)\n",
      "Non-trainable params: 0 (0.00 Byte)\n",
      "_________________________________________________________________\n"
     ]
    }
   ],
   "source": [
    "latent_inputs = keras.Input(shape=(latent_dim,))\n",
    "x = keras.layers.Dense(7 * 7 * 64, activation=\"relu\")(latent_inputs)\n",
    "x = keras.layers.Reshape((7, 7, 64))(x)\n",
    "x = keras.layers.Conv2DTranspose(64, kernel_size=(3, 3), activation=\"relu\", strides=2, padding=\"same\")(x)\n",
    "x = keras.layers.Conv2DTranspose(32, kernel_size=(3, 3), activation=\"relu\", strides=2, padding=\"same\")(x)\n",
    "decoder_outputs = keras.layers.Conv2DTranspose(1, kernel_size=(3, 3), activation=\"sigmoid\", padding=\"same\")(x)\n",
    "\n",
    "decoder = keras.Model(latent_inputs, decoder_outputs, name=\"decoder\")\n",
    "decoder.summary()"
   ]
  },
  {
   "cell_type": "markdown",
   "metadata": {},
   "source": [
    "### Build VAE"
   ]
  },
  {
   "cell_type": "code",
   "execution_count": 6,
   "metadata": {},
   "outputs": [],
   "source": [
    "class VAE(keras.Model):\n",
    "    def __init__(self, encoder, decoder, **kwargs):\n",
    "        super().__init__(**kwargs)\n",
    "        self.encoder = encoder\n",
    "        self.decoder = decoder\n",
    "        self.total_loss_trakcer = keras.metrics.Mean(name=\"total_loss\")\n",
    "        self.reconstruction_loss_tracker = keras.metrics.Mean(name=\"reconstruction_loss\")\n",
    "        self.kl_loss_tracker = keras.metrics.Mean(name=\"kl_loss\")\n",
    "    \n",
    "    @property\n",
    "    def metrics(self):\n",
    "        return [\n",
    "            self.total_loss_trakcer,\n",
    "            self.reconstruction_loss_tracker,\n",
    "            self.kl_loss_tracker\n",
    "        ]\n",
    "    \n",
    "    def train_step(self, data):\n",
    "        with tf.GradientTape() as tape:\n",
    "            z_mean, z_log_var, z = encoder(data)\n",
    "            reconstruction = decoder(z)\n",
    "            reconstruction_loss = tf.reduce_mean(\n",
    "                tf.reduce_sum(\n",
    "                    keras.losses.binary_crossentropy(data, reconstruction), axis=(1 , 2)\n",
    "                )\n",
    "            )\n",
    "            kl_loss = -0.5 * (1 + z_log_var - tf.square(z_mean) - tf.exp(z_log_var))\n",
    "            kl_loss = tf.reduce_mean(tf.reduce_sum(kl_loss, axis=1))\n",
    "            total_loss = reconstruction_loss + kl_loss\n",
    "        \n",
    "        grads = tape.gradient(total_loss, self.trainable_weights)\n",
    "        self.optimizer.apply_gradients(zip(grads, self.trainable_weights))\n",
    "        \n",
    "        self.total_loss_trakcer.update_state(total_loss)\n",
    "        self.reconstruction_loss_tracker.update_state(reconstruction_loss)\n",
    "        self.kl_loss_tracker.update_state(kl_loss)\n",
    "        \n",
    "        return {\n",
    "            \"loss\": self.total_loss_trakcer.result(),\n",
    "            \"reconstruction_loss\": self.reconstruction_loss_tracker.result(),\n",
    "            \"kl_loss\": self.kl_loss_tracker.result()\n",
    "        }"
   ]
  },
  {
   "cell_type": "markdown",
   "metadata": {},
   "source": [
    "### Load dataset"
   ]
  },
  {
   "cell_type": "code",
   "execution_count": 7,
   "metadata": {},
   "outputs": [],
   "source": [
    "data_path = os.path.join(DATADIR, \"mnist.npz\")\n",
    "(x_train, y_train), (x_test, y_test) = keras.datasets.mnist.load_data(data_path)\n",
    "x_train = x_train.astype(\"float32\") / 255.\n",
    "x_test = x_test.astype(\"float32\") / 255.\n",
    "\n",
    "mnist_digits = np.concatenate([x_train, x_test], axis=0)\n",
    "mnist_digits = np.expand_dims(mnist_digits, -1)"
   ]
  },
  {
   "cell_type": "markdown",
   "metadata": {},
   "source": [
    "### Train VAE"
   ]
  },
  {
   "cell_type": "code",
   "execution_count": 8,
   "metadata": {},
   "outputs": [
    {
     "name": "stdout",
     "output_type": "stream",
     "text": [
      "Epoch 1/30\n",
      "547/547 [==============================] - 16s 28ms/step - loss: 303.2931 - reconstruction_loss: 229.1234 - kl_loss: 4.3461\n",
      "Epoch 2/30\n",
      "547/547 [==============================] - 16s 29ms/step - loss: 192.9297 - reconstruction_loss: 183.8243 - kl_loss: 4.8164\n",
      "Epoch 3/30\n",
      "547/547 [==============================] - 16s 29ms/step - loss: 177.5176 - reconstruction_loss: 168.9827 - kl_loss: 5.7014\n",
      "Epoch 4/30\n",
      "547/547 [==============================] - 16s 30ms/step - loss: 169.1217 - reconstruction_loss: 162.6206 - kl_loss: 5.2397\n",
      "Epoch 5/30\n",
      "547/547 [==============================] - 17s 30ms/step - loss: 165.0161 - reconstruction_loss: 158.8882 - kl_loss: 5.2580\n",
      "Epoch 6/30\n",
      "547/547 [==============================] - 17s 31ms/step - loss: 162.1151 - reconstruction_loss: 156.1014 - kl_loss: 5.4126\n",
      "Epoch 7/30\n",
      "547/547 [==============================] - 17s 31ms/step - loss: 159.7864 - reconstruction_loss: 154.3065 - kl_loss: 5.5158\n",
      "Epoch 8/30\n",
      "547/547 [==============================] - 16s 30ms/step - loss: 158.9298 - reconstruction_loss: 153.0278 - kl_loss: 5.5918\n",
      "Epoch 9/30\n",
      "547/547 [==============================] - 16s 30ms/step - loss: 158.0083 - reconstruction_loss: 151.9563 - kl_loss: 5.6324\n",
      "Epoch 10/30\n",
      "547/547 [==============================] - 16s 30ms/step - loss: 156.9917 - reconstruction_loss: 151.1745 - kl_loss: 5.6922\n",
      "Epoch 11/30\n",
      "547/547 [==============================] - 16s 30ms/step - loss: 156.1348 - reconstruction_loss: 150.4963 - kl_loss: 5.7250\n",
      "Epoch 12/30\n",
      "547/547 [==============================] - 17s 30ms/step - loss: 155.7415 - reconstruction_loss: 149.9605 - kl_loss: 5.7496\n",
      "Epoch 13/30\n",
      "547/547 [==============================] - 18s 33ms/step - loss: 155.5452 - reconstruction_loss: 149.3992 - kl_loss: 5.7834\n",
      "Epoch 14/30\n",
      "547/547 [==============================] - 17s 32ms/step - loss: 154.6906 - reconstruction_loss: 148.8860 - kl_loss: 5.8071\n",
      "Epoch 15/30\n",
      "547/547 [==============================] - 17s 31ms/step - loss: 154.5504 - reconstruction_loss: 148.4887 - kl_loss: 5.8306\n",
      "Epoch 16/30\n",
      "547/547 [==============================] - 17s 30ms/step - loss: 154.3718 - reconstruction_loss: 148.1849 - kl_loss: 5.8633\n",
      "Epoch 17/30\n",
      "547/547 [==============================] - 17s 31ms/step - loss: 154.0478 - reconstruction_loss: 147.7695 - kl_loss: 5.8808\n",
      "Epoch 18/30\n",
      "547/547 [==============================] - 17s 31ms/step - loss: 153.5016 - reconstruction_loss: 147.4696 - kl_loss: 5.9053\n",
      "Epoch 19/30\n",
      "547/547 [==============================] - 17s 31ms/step - loss: 153.0536 - reconstruction_loss: 147.1712 - kl_loss: 5.9204\n",
      "Epoch 20/30\n",
      "547/547 [==============================] - 17s 31ms/step - loss: 152.8652 - reconstruction_loss: 146.8703 - kl_loss: 5.9322\n",
      "Epoch 21/30\n",
      "547/547 [==============================] - 17s 31ms/step - loss: 152.5235 - reconstruction_loss: 146.5991 - kl_loss: 5.9549\n",
      "Epoch 22/30\n",
      "547/547 [==============================] - 17s 31ms/step - loss: 152.3259 - reconstruction_loss: 146.3275 - kl_loss: 5.9901\n",
      "Epoch 23/30\n",
      "547/547 [==============================] - 17s 30ms/step - loss: 152.1096 - reconstruction_loss: 146.1895 - kl_loss: 6.0127\n",
      "Epoch 24/30\n",
      "547/547 [==============================] - 17s 30ms/step - loss: 151.6187 - reconstruction_loss: 145.9382 - kl_loss: 6.0272\n",
      "Epoch 25/30\n",
      "547/547 [==============================] - 17s 30ms/step - loss: 151.6676 - reconstruction_loss: 145.7013 - kl_loss: 6.0306\n",
      "Epoch 26/30\n",
      "547/547 [==============================] - 17s 32ms/step - loss: 151.8797 - reconstruction_loss: 145.5305 - kl_loss: 6.0484\n",
      "Epoch 27/30\n",
      "547/547 [==============================] - 17s 32ms/step - loss: 151.4236 - reconstruction_loss: 145.3214 - kl_loss: 6.0658\n",
      "Epoch 28/30\n",
      "547/547 [==============================] - 17s 31ms/step - loss: 151.1282 - reconstruction_loss: 145.1630 - kl_loss: 6.0640\n",
      "Epoch 29/30\n",
      "547/547 [==============================] - 17s 31ms/step - loss: 151.1989 - reconstruction_loss: 144.9793 - kl_loss: 6.0692\n",
      "Epoch 30/30\n",
      "547/547 [==============================] - 17s 31ms/step - loss: 150.9201 - reconstruction_loss: 144.8386 - kl_loss: 6.0948\n"
     ]
    },
    {
     "data": {
      "text/plain": [
       "<keras.src.callbacks.History at 0x164900690>"
      ]
     },
     "execution_count": 8,
     "metadata": {},
     "output_type": "execute_result"
    }
   ],
   "source": [
    "model = VAE(encoder, decoder)\n",
    "model.compile(optimizer=keras.optimizers.legacy.Adam(3e-4))\n",
    "model.fit(mnist_digits, epochs=EPOCH, batch_size=BATCH)"
   ]
  },
  {
   "cell_type": "code",
   "execution_count": 9,
   "metadata": {},
   "outputs": [],
   "source": [
    "# Save model\n",
    "encoderpath = os.path.join(MODELDIR, \"vae-mnist-conv-encoder.h5\")\n",
    "encoder.save_weights(encoderpath, overwrite=True, save_format=None, options=None)\n",
    "\n",
    "decoderpath = os.path.join(MODELDIR, \"vae-mnist-conv-decoder.h5\")\n",
    "decoder.save_weights(decoderpath, overwrite=True, save_format=None, options=None)"
   ]
  },
  {
   "cell_type": "code",
   "execution_count": null,
   "metadata": {},
   "outputs": [],
   "source": []
  }
 ],
 "metadata": {
  "kernelspec": {
   "display_name": "Python 3",
   "language": "python",
   "name": "python3"
  },
  "language_info": {
   "codemirror_mode": {
    "name": "ipython",
    "version": 3
   },
   "file_extension": ".py",
   "mimetype": "text/x-python",
   "name": "python",
   "nbconvert_exporter": "python",
   "pygments_lexer": "ipython3",
   "version": "3.11.5"
  },
  "orig_nbformat": 4
 },
 "nbformat": 4,
 "nbformat_minor": 2
}
