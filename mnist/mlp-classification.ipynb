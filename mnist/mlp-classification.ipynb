{
 "cells": [
  {
   "cell_type": "markdown",
   "metadata": {},
   "source": [
    "# Multi-Layer Perceptrons / Dense Layers"
   ]
  },
  {
   "cell_type": "code",
   "execution_count": 1,
   "metadata": {},
   "outputs": [
    {
     "name": "stderr",
     "output_type": "stream",
     "text": [
      "/var/folders/b9/jjp98g8j2mbcn65j0fgl0dzw0000gp/T/ipykernel_36258/1920844840.py:10: DeprecationWarning: the imp module is deprecated in favour of importlib and slated for removal in Python 3.12; see the module's documentation for alternative uses\n",
      "  import imp\n"
     ]
    },
    {
     "data": {
      "text/plain": [
       "<module 'models' from '/Users/mghifary/Work/Code/AI/keras-poc/models.py'>"
      ]
     },
     "execution_count": 1,
     "metadata": {},
     "output_type": "execute_result"
    }
   ],
   "source": [
    "# Setup\n",
    "import tensorflow as tf\n",
    "import keras\n",
    "\n",
    "import time as timer\n",
    "import datetime\n",
    "\n",
    "import os\n",
    "import sys\n",
    "import imp\n",
    "\n",
    "sys.path.append(os.path.abspath(os.path.join(os.getcwd(), os.pardir)))\n",
    "import models as M\n",
    "\n",
    "imp.reload(M)"
   ]
  },
  {
   "cell_type": "markdown",
   "metadata": {},
   "source": [
    "### Constants"
   ]
  },
  {
   "cell_type": "code",
   "execution_count": 2,
   "metadata": {},
   "outputs": [],
   "source": [
    "EPOCH = 20\n",
    "BATCH = 64\n",
    "\n",
    "DATADIR = \"/Users/mghifary/Work/Code/AI/data\"\n",
    "MODELDIR = \"/Users/mghifary/Work/Code/AI/models\"\n",
    "\n",
    "modelpath = os.path.join(MODELDIR, \"mnist-mlp-classifier.h5\")"
   ]
  },
  {
   "cell_type": "code",
   "execution_count": 3,
   "metadata": {},
   "outputs": [],
   "source": [
    "# Load dataset\n",
    "data_path = os.path.join(DATADIR, \"mnist.npz\")\n",
    "(x_train, y_train), (x_test, y_test) = keras.datasets.mnist.load_data(data_path)\n",
    "x_train = x_train.astype(\"float32\") / 255.\n",
    "x_test = x_test.astype(\"float32\") / 255.\n",
    "\n",
    "(n_train, dx1, dx2) = x_train.shape\n",
    "n_test = x_test.shape[0]\n",
    "\n",
    "dataset = tf.data.Dataset.from_tensor_slices((x_train, y_train))\n",
    "dataset_test = tf.data.Dataset.from_tensor_slices((x_test, y_test))\n",
    "\n",
    "# Shuffle and batch\n",
    "dataset = dataset.shuffle(buffer_size=1024).batch(BATCH)\n",
    "dataset_test = dataset_test.batch(BATCH)"
   ]
  },
  {
   "cell_type": "code",
   "execution_count": 4,
   "metadata": {},
   "outputs": [
    {
     "name": "stdout",
     "output_type": "stream",
     "text": [
      "Model: \"mlp\"\n",
      "_________________________________________________________________\n",
      " Layer (type)                Output Shape              Param #   \n",
      "=================================================================\n",
      " flatten (Flatten)           multiple                  0         \n",
      "                                                                 \n",
      " dense (Dense)               multiple                  200960    \n",
      "                                                                 \n",
      " dense_1 (Dense)             multiple                  32896     \n",
      "                                                                 \n",
      " dense_2 (Dense)             multiple                  1290      \n",
      "                                                                 \n",
      "=================================================================\n",
      "Total params: 235146 (918.54 KB)\n",
      "Trainable params: 235146 (918.54 KB)\n",
      "Non-trainable params: 0 (0.00 Byte)\n",
      "_________________________________________________________________\n"
     ]
    }
   ],
   "source": [
    "# Build model\n",
    "model = M.MLP(num_classes=10)\n",
    "\n",
    "model.build(input_shape=(None, dx1, dx2))\n",
    "model.summary()"
   ]
  },
  {
   "cell_type": "markdown",
   "metadata": {},
   "source": [
    "Train model"
   ]
  },
  {
   "cell_type": "code",
   "execution_count": 5,
   "metadata": {},
   "outputs": [],
   "source": [
    "# Loss and optimizer\n",
    "loss_fn = keras.losses.SparseCategoricalCrossentropy(from_logits=True)\n",
    "optimizer = keras.optimizers.legacy.Adam(learning_rate=3e-4)\n"
   ]
  },
  {
   "cell_type": "code",
   "execution_count": 6,
   "metadata": {},
   "outputs": [],
   "source": [
    "# Define metrics\n",
    "train_loss = keras.metrics.Mean('train_loss', dtype=tf.float32)\n",
    "train_accuracy = keras.metrics.SparseCategoricalAccuracy('train_accuracy')\n",
    "\n",
    "test_loss = keras.metrics.Mean('test_loss', dtype=tf.float32)\n",
    "test_accuracy = keras.metrics.SparseCategoricalAccuracy('test_accuracy')"
   ]
  },
  {
   "cell_type": "code",
   "execution_count": 7,
   "metadata": {},
   "outputs": [],
   "source": [
    "# Training and test function\n",
    "@tf.function\n",
    "def train_on_batch(model, loss_fn, optimizer, x, y):\n",
    "    with tf.GradientTape() as tape:\n",
    "        y_pred = model(x, training=True)\n",
    "        loss_value = loss_fn(y, y_pred)\n",
    "    grads = tape.gradient(loss_value, model.trainable_weights)\n",
    "    optimizer.apply_gradients(zip(grads, model.trainable_weights))\n",
    "\n",
    "    train_loss(loss_value)\n",
    "    train_accuracy(y, y_pred)\n",
    "\n",
    "@tf.function\n",
    "def test_on_batch(model, loss_fn, x, y):\n",
    "    y_pred = model(x, training=False)\n",
    "    loss_value = loss_fn(y, y_pred)\n",
    "    \n",
    "    test_loss(loss_value)\n",
    "    test_accuracy(y, y_pred)"
   ]
  },
  {
   "cell_type": "code",
   "execution_count": 8,
   "metadata": {},
   "outputs": [],
   "source": [
    "# Setup summary writers\n",
    "current_time = datetime.datetime.now().strftime(\"%Y%m%d-%H%M%S\")\n",
    "train_log_dir = 'logs/mlp-mnist/' + current_time + '/train'\n",
    "test_log_dir = 'logs/mlp-mnist/' + current_time + '/test'\n",
    "train_summary_writer = tf.summary.create_file_writer(train_log_dir)\n",
    "test_summary_writer = tf.summary.create_file_writer(test_log_dir)"
   ]
  },
  {
   "cell_type": "code",
   "execution_count": 9,
   "metadata": {},
   "outputs": [
    {
     "name": "stdout",
     "output_type": "stream",
     "text": [
      "Epoch 1 - Training [loss: 0.34958, accuracy: 0.905] (1.265 secs), Test [loss: 0.17395. accuracy: 0.948] (0.158 secs)\n",
      "Epoch 2 - Training [loss: 0.24589, accuracy: 0.932] (1.068 secs), Test [loss: 0.14839. accuracy: 0.955] (0.084 secs)\n",
      "Epoch 3 - Training [loss: 0.19668, accuracy: 0.945] (1.076 secs), Test [loss: 0.13178. accuracy: 0.960] (0.080 secs)\n",
      "Epoch 4 - Training [loss: 0.16603, accuracy: 0.954] (1.069 secs), Test [loss: 0.12247. accuracy: 0.962] (0.085 secs)\n",
      "Epoch 5 - Training [loss: 0.14407, accuracy: 0.960] (1.085 secs), Test [loss: 0.11475. accuracy: 0.964] (0.084 secs)\n",
      "Epoch 6 - Training [loss: 0.12741, accuracy: 0.964] (1.104 secs), Test [loss: 0.10917. accuracy: 0.966] (0.087 secs)\n",
      "Epoch 7 - Training [loss: 0.11406, accuracy: 0.968] (1.091 secs), Test [loss: 0.10475. accuracy: 0.967] (0.086 secs)\n",
      "Epoch 8 - Training [loss: 0.10318, accuracy: 0.971] (1.094 secs), Test [loss: 0.10108. accuracy: 0.969] (0.086 secs)\n",
      "Epoch 9 - Training [loss: 0.09405, accuracy: 0.974] (1.080 secs), Test [loss: 0.09844. accuracy: 0.969] (0.085 secs)\n",
      "Epoch 10 - Training [loss: 0.08633, accuracy: 0.976] (1.098 secs), Test [loss: 0.09663. accuracy: 0.970] (0.085 secs)\n",
      "Epoch 11 - Training [loss: 0.07967, accuracy: 0.978] (1.087 secs), Test [loss: 0.09547. accuracy: 0.971] (0.088 secs)\n",
      "Epoch 12 - Training [loss: 0.07392, accuracy: 0.979] (1.096 secs), Test [loss: 0.09427. accuracy: 0.971] (0.086 secs)\n",
      "Epoch 13 - Training [loss: 0.06883, accuracy: 0.981] (1.176 secs), Test [loss: 0.09318. accuracy: 0.972] (0.087 secs)\n",
      "Epoch 14 - Training [loss: 0.06441, accuracy: 0.982] (1.092 secs), Test [loss: 0.09261. accuracy: 0.972] (0.084 secs)\n",
      "Epoch 15 - Training [loss: 0.06058, accuracy: 0.983] (1.121 secs), Test [loss: 0.09192. accuracy: 0.973] (0.085 secs)\n",
      "Epoch 16 - Training [loss: 0.05721, accuracy: 0.984] (1.102 secs), Test [loss: 0.09117. accuracy: 0.973] (0.087 secs)\n",
      "Epoch 17 - Training [loss: 0.05411, accuracy: 0.985] (1.148 secs), Test [loss: 0.09085. accuracy: 0.974] (0.083 secs)\n",
      "Epoch 18 - Training [loss: 0.05127, accuracy: 0.986] (1.079 secs), Test [loss: 0.09133. accuracy: 0.974] (0.086 secs)\n",
      "Epoch 19 - Training [loss: 0.04887, accuracy: 0.987] (1.226 secs), Test [loss: 0.09131. accuracy: 0.974] (0.104 secs)\n",
      "Epoch 20 - Training [loss: 0.04658, accuracy: 0.987] (1.124 secs), Test [loss: 0.09126. accuracy: 0.974] (0.085 secs)\n"
     ]
    }
   ],
   "source": [
    "# Do training\n",
    "for epoch in range(EPOCH):\n",
    "    # Mini-batch training\n",
    "    train_duration = 0.0\n",
    "    for step, (x, y) in enumerate(dataset):\n",
    "        start_t = timer.time()\n",
    "        train_on_batch(model, loss_fn, optimizer, x, y)\n",
    "        elapsed_t = timer.time() - start_t\n",
    "\n",
    "        train_duration += elapsed_t\n",
    "    \n",
    "    # Store log\n",
    "    with train_summary_writer.as_default():\n",
    "        tf.summary.scalar('loss', train_loss.result(), step=epoch)\n",
    "        tf.summary.scalar('accuracy', train_accuracy.result(), step=epoch)\n",
    "\n",
    "    # Test\n",
    "    test_duration = 0.0\n",
    "    for step, (xt, yt) in enumerate(dataset_test):\n",
    "        start_t = timer.time()\n",
    "        test_on_batch(model, loss_fn, xt, yt)\n",
    "        elapsed_t = timer.time() - start_t\n",
    "\n",
    "        test_duration += elapsed_t\n",
    "\n",
    "    # Store log\n",
    "    with test_summary_writer.as_default():\n",
    "        tf.summary.scalar('loss', test_loss.result(), step=epoch)\n",
    "        tf.summary.scalar('accuracy', test_accuracy.result(), step=epoch)\n",
    "\n",
    "    print(f\"Epoch {epoch+1} - Training [loss: {train_loss.result():.5f}, accuracy: {train_accuracy.result():.3f}] ({train_duration:.3f} secs), Test [loss: {test_loss.result():.5f}. accuracy: {test_accuracy.result():.3f}] ({test_duration:.3f} secs)\")\n",
    "\n",
    "    # Save model\n",
    "    model.save_weights(modelpath, overwrite=True, save_format=None, options=None)\n",
    "\n",
    "# end of epoch"
   ]
  },
  {
   "cell_type": "code",
   "execution_count": null,
   "metadata": {},
   "outputs": [],
   "source": []
  }
 ],
 "metadata": {
  "kernelspec": {
   "display_name": "Python 3 (ipykernel)",
   "language": "python",
   "name": "python3"
  },
  "language_info": {
   "codemirror_mode": {
    "name": "ipython",
    "version": 3
   },
   "file_extension": ".py",
   "mimetype": "text/x-python",
   "name": "python",
   "nbconvert_exporter": "python",
   "pygments_lexer": "ipython3",
   "version": "3.11.5"
  }
 },
 "nbformat": 4,
 "nbformat_minor": 4
}
