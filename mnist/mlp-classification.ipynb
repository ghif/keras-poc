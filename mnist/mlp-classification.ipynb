{
 "cells": [
  {
   "cell_type": "markdown",
   "metadata": {},
   "source": [
    "# Multi-Layer Perceptrons / Dense Layers"
   ]
  },
  {
   "cell_type": "code",
   "execution_count": 10,
   "metadata": {},
   "outputs": [],
   "source": [
    "# Setup\n",
    "import tensorflow as tf\n",
    "import keras\n",
    "\n",
    "import time as timer\n",
    "import datetime\n",
    "\n",
    "import os"
   ]
  },
  {
   "cell_type": "markdown",
   "metadata": {},
   "source": [
    "### Constants"
   ]
  },
  {
   "cell_type": "code",
   "execution_count": 11,
   "metadata": {},
   "outputs": [],
   "source": [
    "EPOCH = 20\n",
    "BATCH = 64\n",
    "\n",
    "DATADIR = \"/Users/mghifary/Work/Code/AI/data\"\n",
    "MODELDIR = \"/Users/mghifary/Work/Code/AI/models\"\n",
    "\n",
    "modelpath = os.path.join(MODELDIR, \"mnist-mlp-classifier.h5\")"
   ]
  },
  {
   "cell_type": "code",
   "execution_count": 12,
   "metadata": {},
   "outputs": [],
   "source": [
    "# Load dataset\n",
    "data_path = os.path.join(DATADIR, \"mnist.npz\")\n",
    "(x_train, y_train), (x_test, y_test) = keras.datasets.mnist.load_data(data_path)\n",
    "x_train = x_train.astype(\"float32\") / 255.\n",
    "x_test = x_test.astype(\"float32\") / 255.\n",
    "\n",
    "(n_train, dx1, dx2) = x_train.shape\n",
    "n_test = x_test.shape[0]\n",
    "\n",
    "dataset = tf.data.Dataset.from_tensor_slices((x_train, y_train))\n",
    "dataset_test = tf.data.Dataset.from_tensor_slices((x_test, y_test))\n",
    "\n",
    "# Shuffle and batch\n",
    "dataset = dataset.shuffle(buffer_size=1024).batch(BATCH)\n",
    "dataset_test = dataset_test.batch(BATCH)"
   ]
  },
  {
   "cell_type": "code",
   "execution_count": 13,
   "metadata": {},
   "outputs": [
    {
     "name": "stdout",
     "output_type": "stream",
     "text": [
      "Model: \"mlp_1\"\n",
      "_________________________________________________________________\n",
      " Layer (type)                Output Shape              Param #   \n",
      "=================================================================\n",
      " flatten_1 (Flatten)         (None, 784)               0         \n",
      "                                                                 \n",
      " dense_3 (Dense)             (None, 256)               200960    \n",
      "                                                                 \n",
      " dense_4 (Dense)             (None, 128)               32896     \n",
      "                                                                 \n",
      " dense_5 (Dense)             (None, 10)                1290      \n",
      "                                                                 \n",
      "=================================================================\n",
      "Total params: 235146 (918.54 KB)\n",
      "Trainable params: 235146 (918.54 KB)\n",
      "Non-trainable params: 0 (0.00 Byte)\n",
      "_________________________________________________________________\n"
     ]
    }
   ],
   "source": [
    "# Build model\n",
    "class MLP(keras.Sequential):\n",
    "    \"\"\"Multi-layer Perceptron\"\"\"\n",
    "\n",
    "    def __init__(self, num_classes=10):\n",
    "        super().__init__()\n",
    "\n",
    "        self.add(keras.layers.Flatten())\n",
    "        self.add(keras.layers.Dense(256, activation=\"relu\"))\n",
    "        self.add(keras.layers.Dense(128, activation=\"relu\"))\n",
    "        self.add(keras.layers.Dense(num_classes))\n",
    "    \n",
    "model = MLP(num_classes=10)\n",
    "\n",
    "model.build(input_shape=(None, dx1, dx2))\n",
    "model.summary()"
   ]
  },
  {
   "cell_type": "markdown",
   "metadata": {},
   "source": [
    "Train model"
   ]
  },
  {
   "cell_type": "code",
   "execution_count": 14,
   "metadata": {},
   "outputs": [],
   "source": [
    "# Loss and optimizer\n",
    "loss_fn = keras.losses.SparseCategoricalCrossentropy(from_logits=True)\n",
    "optimizer = keras.optimizers.legacy.Adam(learning_rate=1e-3)\n"
   ]
  },
  {
   "cell_type": "code",
   "execution_count": 15,
   "metadata": {},
   "outputs": [],
   "source": [
    "# Define metrics\n",
    "train_loss = keras.metrics.Mean('train_loss', dtype=tf.float32)\n",
    "train_accuracy = keras.metrics.SparseCategoricalAccuracy('train_accuracy')\n",
    "\n",
    "test_loss = keras.metrics.Mean('test_loss', dtype=tf.float32)\n",
    "test_accuracy = keras.metrics.SparseCategoricalAccuracy('test_accuracy')"
   ]
  },
  {
   "cell_type": "code",
   "execution_count": 16,
   "metadata": {},
   "outputs": [],
   "source": [
    "# Training and test function\n",
    "@tf.function\n",
    "def train_on_batch(model, loss_fn, optimizer, x, y):\n",
    "    with tf.GradientTape() as tape:\n",
    "        y_pred = model(x, training=True)\n",
    "        loss_value = loss_fn(y, y_pred)\n",
    "    grads = tape.gradient(loss_value, model.trainable_weights)\n",
    "    optimizer.apply_gradients(zip(grads, model.trainable_weights))\n",
    "\n",
    "    train_loss(loss_value)\n",
    "    train_accuracy(y, y_pred)\n",
    "\n",
    "@tf.function\n",
    "def test_on_batch(model, loss_fn, x, y):\n",
    "    y_pred = model(x, training=False)\n",
    "    loss_value = loss_fn(y, y_pred)\n",
    "    \n",
    "    test_loss(loss_value)\n",
    "    test_accuracy(y, y_pred)"
   ]
  },
  {
   "cell_type": "code",
   "execution_count": 17,
   "metadata": {},
   "outputs": [],
   "source": [
    "# Setup summary writers\n",
    "current_time = datetime.datetime.now().strftime(\"%Y%m%d-%H%M%S\")\n",
    "train_log_dir = 'logs/mlp-mnist/' + current_time + '/train'\n",
    "test_log_dir = 'logs/mlp-mnist/' + current_time + '/test'\n",
    "train_summary_writer = tf.summary.create_file_writer(train_log_dir)\n",
    "test_summary_writer = tf.summary.create_file_writer(test_log_dir)"
   ]
  },
  {
   "cell_type": "code",
   "execution_count": 18,
   "metadata": {},
   "outputs": [
    {
     "name": "stdout",
     "output_type": "stream",
     "text": [
      "Epoch 1 - Training [loss: 0.23135, accuracy: 0.932] (1.307 secs), Test [loss: 0.12660. accuracy: 0.962] (0.150 secs)\n",
      "Epoch 2 - Training [loss: 0.16052, accuracy: 0.952] (1.167 secs), Test [loss: 0.11741. accuracy: 0.963] (0.099 secs)\n",
      "Epoch 3 - Training [loss: 0.12660, accuracy: 0.962] (1.219 secs), Test [loss: 0.10509. accuracy: 0.967] (0.088 secs)\n",
      "Epoch 4 - Training [loss: 0.10539, accuracy: 0.968] (1.172 secs), Test [loss: 0.09923. accuracy: 0.969] (0.088 secs)\n",
      "Epoch 5 - Training [loss: 0.09087, accuracy: 0.972] (1.148 secs), Test [loss: 0.09553. accuracy: 0.971] (0.089 secs)\n",
      "Epoch 6 - Training [loss: 0.07973, accuracy: 0.976] (1.209 secs), Test [loss: 0.09332. accuracy: 0.972] (0.089 secs)\n",
      "Epoch 7 - Training [loss: 0.07135, accuracy: 0.978] (1.155 secs), Test [loss: 0.09064. accuracy: 0.973] (0.088 secs)\n",
      "Epoch 8 - Training [loss: 0.06496, accuracy: 0.980] (1.185 secs), Test [loss: 0.09178. accuracy: 0.973] (0.090 secs)\n",
      "Epoch 9 - Training [loss: 0.05945, accuracy: 0.982] (1.198 secs), Test [loss: 0.09271. accuracy: 0.974] (0.088 secs)\n",
      "Epoch 10 - Training [loss: 0.05498, accuracy: 0.983] (1.153 secs), Test [loss: 0.09299. accuracy: 0.974] (0.090 secs)\n",
      "Epoch 11 - Training [loss: 0.05115, accuracy: 0.984] (1.166 secs), Test [loss: 0.09233. accuracy: 0.975] (0.088 secs)\n",
      "Epoch 12 - Training [loss: 0.04780, accuracy: 0.985] (1.138 secs), Test [loss: 0.09302. accuracy: 0.975] (0.087 secs)\n",
      "Epoch 13 - Training [loss: 0.04503, accuracy: 0.986] (1.142 secs), Test [loss: 0.09382. accuracy: 0.975] (0.093 secs)\n",
      "Epoch 14 - Training [loss: 0.04267, accuracy: 0.987] (1.485 secs), Test [loss: 0.09441. accuracy: 0.975] (0.082 secs)\n",
      "Epoch 15 - Training [loss: 0.04036, accuracy: 0.987] (1.414 secs), Test [loss: 0.09477. accuracy: 0.976] (0.105 secs)\n",
      "Epoch 16 - Training [loss: 0.03860, accuracy: 0.988] (1.531 secs), Test [loss: 0.09531. accuracy: 0.976] (0.119 secs)\n",
      "Epoch 17 - Training [loss: 0.03680, accuracy: 0.988] (1.728 secs), Test [loss: 0.09585. accuracy: 0.976] (0.109 secs)\n",
      "Epoch 18 - Training [loss: 0.03519, accuracy: 0.989] (1.310 secs), Test [loss: 0.09643. accuracy: 0.976] (0.085 secs)\n",
      "Epoch 19 - Training [loss: 0.03378, accuracy: 0.989] (1.144 secs), Test [loss: 0.09684. accuracy: 0.977] (0.086 secs)\n",
      "Epoch 20 - Training [loss: 0.03253, accuracy: 0.990] (1.173 secs), Test [loss: 0.09748. accuracy: 0.977] (0.089 secs)\n"
     ]
    }
   ],
   "source": [
    "# Do training\n",
    "for epoch in range(EPOCH):\n",
    "    # Mini-batch training\n",
    "    train_duration = 0.0\n",
    "    for step, (x, y) in enumerate(dataset):\n",
    "        start_t = timer.time()\n",
    "        train_on_batch(model, loss_fn, optimizer, x, y)\n",
    "        elapsed_t = timer.time() - start_t\n",
    "\n",
    "        train_duration += elapsed_t\n",
    "    \n",
    "    # Store log\n",
    "    with train_summary_writer.as_default():\n",
    "        tf.summary.scalar('loss', train_loss.result(), step=epoch)\n",
    "        tf.summary.scalar('accuracy', train_accuracy.result(), step=epoch)\n",
    "\n",
    "    # Test\n",
    "    test_duration = 0.0\n",
    "    for step, (xt, yt) in enumerate(dataset_test):\n",
    "        start_t = timer.time()\n",
    "        test_on_batch(model, loss_fn, xt, yt)\n",
    "        elapsed_t = timer.time() - start_t\n",
    "\n",
    "        test_duration += elapsed_t\n",
    "\n",
    "    # Store log\n",
    "    with test_summary_writer.as_default():\n",
    "        tf.summary.scalar('loss', test_loss.result(), step=epoch)\n",
    "        tf.summary.scalar('accuracy', test_accuracy.result(), step=epoch)\n",
    "\n",
    "    print(f\"Epoch {epoch+1} - Training [loss: {train_loss.result():.5f}, accuracy: {train_accuracy.result():.3f}] ({train_duration:.3f} secs), Test [loss: {test_loss.result():.5f}. accuracy: {test_accuracy.result():.3f}] ({test_duration:.3f} secs)\")\n",
    "\n",
    "    # Save model\n",
    "    model.save_weights(modelpath, overwrite=True, save_format=None, options=None)\n",
    "\n",
    "# end of epoch"
   ]
  }
 ],
 "metadata": {
  "kernelspec": {
   "display_name": "Python 3 (ipykernel)",
   "language": "python",
   "name": "python3"
  },
  "language_info": {
   "codemirror_mode": {
    "name": "ipython",
    "version": 3
   },
   "file_extension": ".py",
   "mimetype": "text/x-python",
   "name": "python",
   "nbconvert_exporter": "python",
   "pygments_lexer": "ipython3",
   "version": "3.11.5"
  }
 },
 "nbformat": 4,
 "nbformat_minor": 4
}
