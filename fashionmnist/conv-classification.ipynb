{
 "cells": [
  {
   "cell_type": "markdown",
   "metadata": {},
   "source": [
    "# Convolutional Networks"
   ]
  },
  {
   "cell_type": "code",
   "execution_count": 1,
   "metadata": {},
   "outputs": [],
   "source": [
    "# Setup\n",
    "import tensorflow as tf\n",
    "import keras\n",
    "\n",
    "import time as timer\n",
    "import datetime\n",
    "\n",
    "import os\n",
    "\n",
    "import dataset"
   ]
  },
  {
   "cell_type": "markdown",
   "metadata": {},
   "source": [
    "### Constants"
   ]
  },
  {
   "cell_type": "code",
   "execution_count": 2,
   "metadata": {},
   "outputs": [],
   "source": [
    "EPOCH = 20\n",
    "BATCH = 64\n",
    "\n",
    "DATADIR = \"/Users/mghifary/Work/Code/AI/data\"\n",
    "MODELDIR = \"/Users/mghifary/Work/Code/AI/models\"\n",
    "\n",
    "modelpath = os.path.join(MODELDIR, \"fashion_mnist-lenet-classifier.h5\")"
   ]
  },
  {
   "cell_type": "code",
   "execution_count": 3,
   "metadata": {},
   "outputs": [],
   "source": [
    "# Load dataset\n",
    "# data_path = os.path.join(DATADIR, \"train-labels-idx1-ubyte.gz\")\n",
    "(x_train, y_train), (x_test, y_test) = dataset.load_data()\n",
    "x_train = x_train.astype(\"float32\") / 255.\n",
    "x_test = x_test.astype(\"float32\") / 255.\n",
    "\n",
    "(n_train, dx1, dx2) = x_train.shape\n",
    "n_test = x_test.shape[0]\n",
    "\n",
    "dataset = tf.data.Dataset.from_tensor_slices((x_train, y_train))\n",
    "dataset_test = tf.data.Dataset.from_tensor_slices((x_test, y_test))\n",
    "\n",
    "# Shuffle and batch\n",
    "dataset = dataset.shuffle(buffer_size=1024).batch(BATCH)\n",
    "dataset_test = dataset_test.batch(BATCH)"
   ]
  },
  {
   "cell_type": "code",
   "execution_count": 4,
   "metadata": {},
   "outputs": [
    {
     "name": "stdout",
     "output_type": "stream",
     "text": [
      "Model: \"le_net5\"\n",
      "_________________________________________________________________\n",
      " Layer (type)                Output Shape              Param #   \n",
      "=================================================================\n",
      " conv2d (Conv2D)             (None, 28, 28, 32)        832       \n",
      "                                                                 \n",
      " max_pooling2d (MaxPooling2  (None, 14, 14, 32)        0         \n",
      " D)                                                              \n",
      "                                                                 \n",
      " conv2d_1 (Conv2D)           (None, 10, 10, 48)        38448     \n",
      "                                                                 \n",
      " max_pooling2d_1 (MaxPoolin  (None, 5, 5, 48)          0         \n",
      " g2D)                                                            \n",
      "                                                                 \n",
      " flatten (Flatten)           (None, 1200)              0         \n",
      "                                                                 \n",
      " dense (Dense)               (None, 256)               307456    \n",
      "                                                                 \n",
      " dense_1 (Dense)             (None, 84)                21588     \n",
      "                                                                 \n",
      " dense_2 (Dense)             (None, 10)                850       \n",
      "                                                                 \n",
      "=================================================================\n",
      "Total params: 369174 (1.41 MB)\n",
      "Trainable params: 369174 (1.41 MB)\n",
      "Non-trainable params: 0 (0.00 Byte)\n",
      "_________________________________________________________________\n"
     ]
    }
   ],
   "source": [
    "# Build model\n",
    "# class ConvNet(keras.Sequential):\n",
    "#     \"\"\"Multi-layer Perceptron\"\"\"\n",
    "\n",
    "#     def __init__(self, num_classes=10):\n",
    "#         super().__init__()\n",
    "#         self.add(keras.layers.Conv2D(8, (3, 3), input_shape=(dx1, dx2, 1)))\n",
    "#         self.add(keras.layers.MaxPooling2D((2, 2)))\n",
    "#         self.add(keras.layers.Flatten())\n",
    "#         self.add(keras.layers.Dense(num_classes))\n",
    "    \n",
    "# model = ConvNet(num_classes=10)\n",
    "\n",
    "class LeNet5(keras.Sequential):\n",
    "    \"\"\"LeNet5 architecture\"\"\"\n",
    "\n",
    "    def __init__(self, num_classes=10):\n",
    "        super().__init__()\n",
    "        self.add(keras.layers.Conv2D(32, kernel_size=(5, 5), padding=\"same\", activation=\"relu\", input_shape=(dx1, dx2, 1)))\n",
    "        self.add(keras.layers.MaxPool2D((2, 2)))\n",
    "        self.add(keras.layers.Conv2D(48, kernel_size=(5, 5), padding=\"valid\", activation=\"relu\"))\n",
    "        self.add(keras.layers.MaxPool2D((2, 2)))\n",
    "        self.add(keras.layers.Flatten())\n",
    "        self.add(keras.layers.Dense(256, activation=\"relu\"))\n",
    "        self.add(keras.layers.Dense(84, activation=\"relu\"))\n",
    "        self.add(keras.layers.Dense(num_classes))\n",
    "\n",
    "model = LeNet5(num_classes=10)\n",
    "model.build(input_shape=(None, dx1, dx2))\n",
    "model.summary()"
   ]
  },
  {
   "cell_type": "markdown",
   "metadata": {},
   "source": [
    "Train model"
   ]
  },
  {
   "cell_type": "code",
   "execution_count": 5,
   "metadata": {},
   "outputs": [],
   "source": [
    "# Loss and optimizer\n",
    "loss_fn = keras.losses.SparseCategoricalCrossentropy(from_logits=True)\n",
    "optimizer = keras.optimizers.legacy.Adam(learning_rate=3e-4)\n"
   ]
  },
  {
   "cell_type": "code",
   "execution_count": 6,
   "metadata": {},
   "outputs": [],
   "source": [
    "# Define metrics\n",
    "train_loss = keras.metrics.Mean('train_loss', dtype=tf.float32)\n",
    "train_accuracy = keras.metrics.SparseCategoricalAccuracy('train_accuracy')\n",
    "\n",
    "test_loss = keras.metrics.Mean('test_loss', dtype=tf.float32)\n",
    "test_accuracy = keras.metrics.SparseCategoricalAccuracy('test_accuracy')"
   ]
  },
  {
   "cell_type": "code",
   "execution_count": 7,
   "metadata": {},
   "outputs": [],
   "source": [
    "# Training and test function\n",
    "@tf.function\n",
    "def train_on_batch(model, loss_fn, optimizer, x, y):\n",
    "    with tf.GradientTape() as tape:\n",
    "        y_pred = model(x, training=True)\n",
    "        loss_value = loss_fn(y, y_pred)\n",
    "    grads = tape.gradient(loss_value, model.trainable_weights)\n",
    "    optimizer.apply_gradients(zip(grads, model.trainable_weights))\n",
    "\n",
    "    train_loss(loss_value)\n",
    "    train_accuracy(y, y_pred)\n",
    "\n",
    "@tf.function\n",
    "def test_on_batch(model, loss_fn, x, y):\n",
    "    y_pred = model(x, training=False)\n",
    "    loss_value = loss_fn(y, y_pred)\n",
    "    \n",
    "    test_loss(loss_value)\n",
    "    test_accuracy(y, y_pred)"
   ]
  },
  {
   "cell_type": "code",
   "execution_count": 8,
   "metadata": {},
   "outputs": [],
   "source": [
    "# Setup summary writers\n",
    "current_time = datetime.datetime.now().strftime(\"%Y%m%d-%H%M%S\")\n",
    "train_log_dir = 'logs/convnet-fashionmnist/' + current_time + '/train'\n",
    "test_log_dir = 'logs/convnet-fashionmnist/' + current_time + '/test'\n",
    "train_summary_writer = tf.summary.create_file_writer(train_log_dir)\n",
    "test_summary_writer = tf.summary.create_file_writer(test_log_dir)"
   ]
  },
  {
   "cell_type": "code",
   "execution_count": 9,
   "metadata": {},
   "outputs": [
    {
     "name": "stdout",
     "output_type": "stream",
     "text": [
      "Epoch 1 - Training [loss: 0.57343, accuracy: 0.795] (12.515 secs), Test [loss: 0.44488. accuracy: 0.836] (0.745 secs)\n",
      "Epoch 2 - Training [loss: 0.47206, accuracy: 0.831] (11.917 secs), Test [loss: 0.39946. accuracy: 0.855] (0.635 secs)\n",
      "Epoch 3 - Training [loss: 0.42142, accuracy: 0.849] (12.071 secs), Test [loss: 0.37063. accuracy: 0.866] (0.644 secs)\n",
      "Epoch 4 - Training [loss: 0.38739, accuracy: 0.861] (12.255 secs), Test [loss: 0.35634. accuracy: 0.871] (0.661 secs)\n",
      "Epoch 5 - Training [loss: 0.36192, accuracy: 0.870] (12.514 secs), Test [loss: 0.34059. accuracy: 0.877] (0.686 secs)\n",
      "Epoch 6 - Training [loss: 0.34153, accuracy: 0.877] (12.666 secs), Test [loss: 0.32858. accuracy: 0.882] (0.693 secs)\n",
      "Epoch 7 - Training [loss: 0.32420, accuracy: 0.883] (12.852 secs), Test [loss: 0.31799. accuracy: 0.885] (0.710 secs)\n",
      "Epoch 8 - Training [loss: 0.30925, accuracy: 0.888] (13.091 secs), Test [loss: 0.31027. accuracy: 0.888] (0.728 secs)\n",
      "Epoch 9 - Training [loss: 0.29617, accuracy: 0.893] (13.361 secs), Test [loss: 0.30402. accuracy: 0.891] (0.714 secs)\n",
      "Epoch 10 - Training [loss: 0.28407, accuracy: 0.897] (12.936 secs), Test [loss: 0.29847. accuracy: 0.893] (0.736 secs)\n",
      "Epoch 11 - Training [loss: 0.27294, accuracy: 0.901] (13.156 secs), Test [loss: 0.29522. accuracy: 0.895] (0.738 secs)\n",
      "Epoch 12 - Training [loss: 0.26275, accuracy: 0.905] (13.369 secs), Test [loss: 0.29310. accuracy: 0.896] (0.762 secs)\n",
      "Epoch 13 - Training [loss: 0.25309, accuracy: 0.908] (13.664 secs), Test [loss: 0.29068. accuracy: 0.897] (0.770 secs)\n",
      "Epoch 14 - Training [loss: 0.24408, accuracy: 0.912] (13.821 secs), Test [loss: 0.29005. accuracy: 0.898] (0.796 secs)\n",
      "Epoch 15 - Training [loss: 0.23550, accuracy: 0.915] (14.141 secs), Test [loss: 0.28883. accuracy: 0.899] (0.807 secs)\n",
      "Epoch 16 - Training [loss: 0.22720, accuracy: 0.918] (14.400 secs), Test [loss: 0.28865. accuracy: 0.900] (0.847 secs)\n",
      "Epoch 17 - Training [loss: 0.21941, accuracy: 0.920] (14.712 secs), Test [loss: 0.28876. accuracy: 0.901] (0.844 secs)\n",
      "Epoch 18 - Training [loss: 0.21200, accuracy: 0.923] (14.932 secs), Test [loss: 0.29023. accuracy: 0.902] (0.857 secs)\n",
      "Epoch 19 - Training [loss: 0.20493, accuracy: 0.926] (14.986 secs), Test [loss: 0.29150. accuracy: 0.903] (0.799 secs)\n",
      "Epoch 20 - Training [loss: 0.19826, accuracy: 0.928] (15.102 secs), Test [loss: 0.29352. accuracy: 0.903] (0.879 secs)\n"
     ]
    }
   ],
   "source": [
    "# Do training\n",
    "for epoch in range(EPOCH):\n",
    "    # Mini-batch training\n",
    "    train_duration = 0.0\n",
    "    for step, (x, y) in enumerate(dataset):\n",
    "        start_t = timer.time()\n",
    "        train_on_batch(model, loss_fn, optimizer, x, y)\n",
    "        elapsed_t = timer.time() - start_t\n",
    "\n",
    "        train_duration += elapsed_t\n",
    "    \n",
    "    # Store log\n",
    "    with train_summary_writer.as_default():\n",
    "        tf.summary.scalar('loss', train_loss.result(), step=epoch)\n",
    "        tf.summary.scalar('accuracy', train_accuracy.result(), step=epoch)\n",
    "\n",
    "    # Test\n",
    "    test_duration = 0.0\n",
    "    for step, (xt, yt) in enumerate(dataset_test):\n",
    "        start_t = timer.time()\n",
    "        test_on_batch(model, loss_fn, xt, yt)\n",
    "        elapsed_t = timer.time() - start_t\n",
    "\n",
    "        test_duration += elapsed_t\n",
    "\n",
    "    # Store log\n",
    "    with test_summary_writer.as_default():\n",
    "        tf.summary.scalar('loss', test_loss.result(), step=epoch)\n",
    "        tf.summary.scalar('accuracy', test_accuracy.result(), step=epoch)\n",
    "\n",
    "    print(f\"Epoch {epoch+1} - Training [loss: {train_loss.result():.5f}, accuracy: {train_accuracy.result():.3f}] ({train_duration:.3f} secs), Test [loss: {test_loss.result():.5f}. accuracy: {test_accuracy.result():.3f}] ({test_duration:.3f} secs)\")\n",
    "\n",
    "    # Save model\n",
    "    model.save_weights(modelpath, overwrite=True, save_format=None, options=None)\n",
    "\n",
    "# end of epoch"
   ]
  }
 ],
 "metadata": {
  "kernelspec": {
   "display_name": "Python 3 (ipykernel)",
   "language": "python",
   "name": "python3"
  },
  "language_info": {
   "codemirror_mode": {
    "name": "ipython",
    "version": 3
   },
   "file_extension": ".py",
   "mimetype": "text/x-python",
   "name": "python",
   "nbconvert_exporter": "python",
   "pygments_lexer": "ipython3",
   "version": "3.11.5"
  }
 },
 "nbformat": 4,
 "nbformat_minor": 4
}
